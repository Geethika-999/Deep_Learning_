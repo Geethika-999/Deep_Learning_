{
  "nbformat": 4,
  "nbformat_minor": 0,
  "metadata": {
    "colab": {
      "provenance": [],
      "gpuType": "T4"
    },
    "kernelspec": {
      "name": "python3",
      "display_name": "Python 3"
    },
    "language_info": {
      "name": "python"
    },
    "accelerator": "GPU"
  },
  "cells": [
    {
      "cell_type": "code",
      "execution_count": 1,
      "metadata": {
        "id": "5pgJmR1Dgym3"
      },
      "outputs": [],
      "source": [
        "import torch\n",
        "import torchvision\n",
        "import torchvision.transforms as transforms\n",
        "import torch.nn as nn\n",
        "import torch.nn.functional as F"
      ]
    },
    {
      "cell_type": "code",
      "source": [
        "#preprocessing the images\n",
        "transform = transforms.Compose([transforms.ToTensor(),\n",
        "                                transforms.Normalize((0.5,0.5,0.5),(0.5,0.5,0.5))])  #mean and std"
      ],
      "metadata": {
        "id": "uYAcQKUAhWOu"
      },
      "execution_count": 2,
      "outputs": []
    },
    {
      "cell_type": "code",
      "source": [
        "training_data=torchvision.datasets.CIFAR100(root = './data',\n",
        "                                            train=True,\n",
        "                                            download=True,\n",
        "                                            transform=transform\n",
        ")\n",
        "testing_data=torchvision.datasets.CIFAR100(root = './data',\n",
        "                                            train=False,\n",
        "                                            download=True,\n",
        "                                            transform=transform\n",
        ")"
      ],
      "metadata": {
        "colab": {
          "base_uri": "https://localhost:8080/"
        },
        "id": "y0URfll-iby1",
        "outputId": "3afdaef8-df8c-4769-9a00-43451d7045cd"
      },
      "execution_count": 3,
      "outputs": [
        {
          "output_type": "stream",
          "name": "stdout",
          "text": [
            "Downloading https://www.cs.toronto.edu/~kriz/cifar-100-python.tar.gz to ./data/cifar-100-python.tar.gz\n"
          ]
        },
        {
          "output_type": "stream",
          "name": "stderr",
          "text": [
            "100%|██████████| 169001437/169001437 [00:05<00:00, 29174533.62it/s]\n"
          ]
        },
        {
          "output_type": "stream",
          "name": "stdout",
          "text": [
            "Extracting ./data/cifar-100-python.tar.gz to ./data\n",
            "Files already downloaded and verified\n"
          ]
        }
      ]
    },
    {
      "cell_type": "code",
      "source": [
        "batch_size=64\n",
        "\n",
        "train_dataloader=torch.utils.data.DataLoader(training_data,batch_size=batch_size)\n",
        "test_dataloader=torch.utils.data.DataLoader(testing_data,batch_size=batch_size)\n"
      ],
      "metadata": {
        "id": "h4uiD3kokKO2"
      },
      "execution_count": 4,
      "outputs": []
    },
    {
      "cell_type": "code",
      "source": [
        "#Architecture\n",
        "\n",
        "class CNN(nn.Module):\n",
        "\n",
        "  def __init__(self):\n",
        "    super(CNN,self).__init__()\n",
        "\n",
        "    self.conv1 = nn.Conv2d(3,6,5)\n",
        "    self.pool = nn.MaxPool2d(2,2)\n",
        "    self.conv2 = nn.Conv2d(6,16,5)\n",
        "    self.flatten = nn.Flatten(start_dim=1)\n",
        "    self.fc1 = nn.Linear(1600,200)\n",
        "    self.fc2 = nn.Linear(200,160)\n",
        "    self.fc3 = nn.Linear(160,120)\n",
        "    self.fc4 = nn.Linear(120,100)\n",
        "\n",
        "  def forward(self,x):\n",
        "    x = self.conv1(x) #i/p:3,32*32     o/p:6,28*28\n",
        "    #x = F.relu(x)\n",
        "    x = self.pool(x) # coverting 6,14*14\n",
        "    #print(x.shape)\n",
        "    x = self.conv2(x) #16*10*10\n",
        "    #print(x.shape)\n",
        "    x = self.flatten(x)\n",
        "    #print(x.shape)\n",
        "    x = self.fc1(x)\n",
        "    #print(x.shape)\n",
        "    x = F.relu(x)\n",
        "    #print(x.shape)\n",
        "    x = self.fc2(x)\n",
        "    #print(x.shape)\n",
        "    x = F.sigmoid(x)\n",
        "    x = self.fc3(x)\n",
        "    x = F.relu(x)\n",
        "    x = self.fc4(x)\n",
        "    #print(x.shape)\n",
        "    return x\n"
      ],
      "metadata": {
        "id": "buoUJBz_ljM5"
      },
      "execution_count": 5,
      "outputs": []
    },
    {
      "cell_type": "code",
      "source": [
        "#model=CNN()"
      ],
      "metadata": {
        "id": "jD72_jR2tnyR"
      },
      "execution_count": 6,
      "outputs": []
    },
    {
      "cell_type": "code",
      "source": [
        "'''\n",
        "for X,y in train_dataloader:\n",
        "  print(X.shape)\n",
        "  model(X)\n",
        "  break\n",
        "'''"
      ],
      "metadata": {
        "colab": {
          "base_uri": "https://localhost:8080/",
          "height": 36
        },
        "id": "MqDXAZtjrVsE",
        "outputId": "1494e4a2-6a87-41d5-8b00-624fb6d37482"
      },
      "execution_count": 7,
      "outputs": [
        {
          "output_type": "execute_result",
          "data": {
            "text/plain": [
              "'\\nfor X,y in train_dataloader:\\n  print(X.shape)\\n  model(X)\\n  break\\n'"
            ],
            "application/vnd.google.colaboratory.intrinsic+json": {
              "type": "string"
            }
          },
          "metadata": {},
          "execution_count": 7
        }
      ]
    },
    {
      "cell_type": "code",
      "source": [
        "device = (\"cuda\" if torch.cuda.is_available() else 'cpu')"
      ],
      "metadata": {
        "id": "UtDzU1wv7mGY"
      },
      "execution_count": 8,
      "outputs": []
    },
    {
      "cell_type": "code",
      "source": [
        "model=CNN()\n",
        "model.to(device)\n",
        "model\n"
      ],
      "metadata": {
        "colab": {
          "base_uri": "https://localhost:8080/"
        },
        "id": "_KE4-in7s0yM",
        "outputId": "38d91f85-df5a-4d1f-cb14-391b66ba4330"
      },
      "execution_count": 9,
      "outputs": [
        {
          "output_type": "execute_result",
          "data": {
            "text/plain": [
              "CNN(\n",
              "  (conv1): Conv2d(3, 6, kernel_size=(5, 5), stride=(1, 1))\n",
              "  (pool): MaxPool2d(kernel_size=2, stride=2, padding=0, dilation=1, ceil_mode=False)\n",
              "  (conv2): Conv2d(6, 16, kernel_size=(5, 5), stride=(1, 1))\n",
              "  (flatten): Flatten(start_dim=1, end_dim=-1)\n",
              "  (fc1): Linear(in_features=1600, out_features=200, bias=True)\n",
              "  (fc2): Linear(in_features=200, out_features=160, bias=True)\n",
              "  (fc3): Linear(in_features=160, out_features=120, bias=True)\n",
              "  (fc4): Linear(in_features=120, out_features=100, bias=True)\n",
              ")"
            ]
          },
          "metadata": {},
          "execution_count": 9
        }
      ]
    },
    {
      "cell_type": "code",
      "source": [
        "loss_fn=nn.CrossEntropyLoss()\n",
        "optimizer=torch.optim.SGD(model.parameters(),lr=1e-2)"
      ],
      "metadata": {
        "id": "O6Xxw_C6tF1g"
      },
      "execution_count": 10,
      "outputs": []
    },
    {
      "cell_type": "code",
      "source": [
        "def training(train_dataloader,model,loss_,optimizer):\n",
        "  model.train()\n",
        "#train_loss = 0.0\n",
        "#pass every batch of data to the model\n",
        "  for batch, (X,y) in enumerate(train_dataloader):\n",
        "    X = X.to(device)\n",
        "    y = y.to(device)\n",
        "\n",
        "    pred = model(X)\n",
        "    #print(pred)\n",
        "    #print(y)\n",
        "    loss = loss_fn(pred,y)\n",
        "    #print(loss)\n",
        "    optimizer.zero_grad()\n",
        "    loss.backward()\n",
        "    optimizer.step()\n",
        "\n",
        "    if batch % 100 ==0:\n",
        "      print(f'loss:{loss.item()}')\n",
        "\n",
        "\n"
      ],
      "metadata": {
        "id": "-cM8YJd08SKO"
      },
      "execution_count": 11,
      "outputs": []
    },
    {
      "cell_type": "code",
      "source": [
        "def testing(test_dataloader,model,loss_):\n",
        "  model.eval()\n",
        "  test_loss = 0.0\n",
        "  correct = 0\n",
        "  for X,y in test_dataloader:\n",
        "    X = X.to(device)\n",
        "    y = y.to(device)\n",
        "\n",
        "    pred = model(X)\n",
        "    #print(pred)\n",
        "    correct += (pred.argmax(1) == y).type(torch.float).sum().item()\n",
        "    test_loss += loss_fn(pred,y).item()\n",
        "  test_loss = test_loss/len(test_dataloader)\n",
        "  print (len(test_dataloader.dataset))\n",
        "  accuracy = (correct/len(test_dataloader.dataset))*100\n",
        "  print (f'Accuracy : {accuracy} with test error {test_loss}')\n",
        "    #print(correct)"
      ],
      "metadata": {
        "id": "uf_YsmL2lGaf"
      },
      "execution_count": 12,
      "outputs": []
    },
    {
      "cell_type": "code",
      "source": [
        "epochs = 9 #how many times you have to send data to the model\n",
        "\n",
        "for t in range(epochs):\n",
        "  training(train_dataloader,model,loss_fn,optimizer)\n",
        "  testing(test_dataloader,model,loss_fn)\n",
        "  print(f' ==================== EPOCH : {t} ============================')"
      ],
      "metadata": {
        "colab": {
          "base_uri": "https://localhost:8080/"
        },
        "id": "t379-LQhlzoq",
        "outputId": "3b6ee488-3788-4050-8d00-3a4f8ed72872"
      },
      "execution_count": 13,
      "outputs": [
        {
          "output_type": "stream",
          "name": "stdout",
          "text": [
            "loss:4.606820583343506\n",
            "loss:4.5964508056640625\n",
            "loss:4.619381427764893\n",
            "loss:4.614006042480469\n",
            "loss:4.613214492797852\n",
            "loss:4.600072860717773\n",
            "loss:4.6163225173950195\n",
            "loss:4.614313125610352\n",
            "10000\n",
            "Accuracy : 1.0 with test error 4.606187055065374\n",
            " ==================== EPOCH : 0 ============================\n",
            "loss:4.602466583251953\n",
            "loss:4.6002092361450195\n",
            "loss:4.6087470054626465\n",
            "loss:4.610718727111816\n",
            "loss:4.606064319610596\n",
            "loss:4.603142738342285\n",
            "loss:4.614599704742432\n",
            "loss:4.6095147132873535\n",
            "10000\n",
            "Accuracy : 1.0 with test error 4.605169864217187\n",
            " ==================== EPOCH : 1 ============================\n",
            "loss:4.602540016174316\n",
            "loss:4.600725173950195\n",
            "loss:4.606535911560059\n",
            "loss:4.608785629272461\n",
            "loss:4.604031562805176\n",
            "loss:4.604186058044434\n",
            "loss:4.6130218505859375\n",
            "loss:4.606669902801514\n",
            "10000\n",
            "Accuracy : 1.03 with test error 4.604340993674698\n",
            " ==================== EPOCH : 2 ============================\n",
            "loss:4.602813243865967\n",
            "loss:4.600244045257568\n",
            "loss:4.604970455169678\n",
            "loss:4.606261253356934\n",
            "loss:4.602448463439941\n",
            "loss:4.604189395904541\n",
            "loss:4.610769748687744\n",
            "loss:4.60374641418457\n",
            "10000\n",
            "Accuracy : 1.6400000000000001 with test error 4.602970372339723\n",
            " ==================== EPOCH : 3 ============================\n",
            "loss:4.602616786956787\n",
            "loss:4.5976338386535645\n",
            "loss:4.6030497550964355\n",
            "loss:4.602999687194824\n",
            "loss:4.599254131317139\n",
            "loss:4.602715969085693\n",
            "loss:4.606378555297852\n",
            "loss:4.598117351531982\n",
            "10000\n",
            "Accuracy : 1.96 with test error 4.599488692678464\n",
            " ==================== EPOCH : 4 ============================\n",
            "loss:4.60099458694458\n",
            "loss:4.589459419250488\n",
            "loss:4.596572399139404\n",
            "loss:4.5939717292785645\n",
            "loss:4.591319561004639\n",
            "loss:4.594920635223389\n",
            "loss:4.5927958488464355\n",
            "loss:4.579412937164307\n",
            "10000\n",
            "Accuracy : 2.91 with test error 4.585185017555383\n",
            " ==================== EPOCH : 5 ============================\n",
            "loss:4.591187477111816\n",
            "loss:4.552993297576904\n",
            "loss:4.564996242523193\n",
            "loss:4.552484512329102\n",
            "loss:4.552207946777344\n",
            "loss:4.5528883934021\n",
            "loss:4.523099422454834\n",
            "loss:4.505217552185059\n",
            "10000\n",
            "Accuracy : 3.01 with test error 4.516499725876341\n",
            " ==================== EPOCH : 6 ============================\n",
            "loss:4.5356011390686035\n",
            "loss:4.436506748199463\n",
            "loss:4.446030139923096\n",
            "loss:4.400900840759277\n",
            "loss:4.389283657073975\n",
            "loss:4.441181182861328\n",
            "loss:4.354923248291016\n",
            "loss:4.374436378479004\n",
            "10000\n",
            "Accuracy : 3.6999999999999997 with test error 4.389182461295158\n",
            " ==================== EPOCH : 7 ============================\n",
            "loss:4.408509254455566\n",
            "loss:4.3337602615356445\n",
            "loss:4.298611640930176\n",
            "loss:4.2412590980529785\n",
            "loss:4.20187520980835\n",
            "loss:4.325466156005859\n",
            "loss:4.228423118591309\n",
            "loss:4.179398536682129\n",
            "10000\n",
            "Accuracy : 5.08 with test error 4.264924778300486\n",
            " ==================== EPOCH : 8 ============================\n"
          ]
        }
      ]
    },
    {
      "cell_type": "code",
      "source": [],
      "metadata": {
        "id": "GEc9y89UTRAi"
      },
      "execution_count": null,
      "outputs": []
    }
  ]
}