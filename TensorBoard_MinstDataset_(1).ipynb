{
  "nbformat": 4,
  "nbformat_minor": 0,
  "metadata": {
    "colab": {
      "provenance": [],
      "gpuType": "T4"
    },
    "kernelspec": {
      "name": "python3",
      "display_name": "Python 3"
    },
    "language_info": {
      "name": "python"
    },
    "accelerator": "GPU"
  },
  "cells": [
    {
      "cell_type": "code",
      "execution_count": 1,
      "metadata": {
        "id": "09PuMENIfiJs"
      },
      "outputs": [],
      "source": [
        "import torch\n",
        "import torchvision\n",
        "from torch import nn\n",
        "from torch.utils.data import DataLoader\n",
        "from torchvision import datasets\n",
        "from torchvision.transforms import ToTensor\n",
        "import torch.nn.functional as f\n",
        "\n",
        "\n",
        "import matplotlib.pyplot as plt\n",
        "from torch.utils.tensorboard import SummaryWriter\n"
      ]
    },
    {
      "cell_type": "code",
      "source": [
        "training_data = datasets.MNIST(root = \"data\",train = True,download = True,transform = ToTensor())\n",
        "testing_data = datasets.MNIST(root = \"data\",train = False,download = True,transform = ToTensor())"
      ],
      "metadata": {
        "id": "bg_psDx7gSHn",
        "colab": {
          "base_uri": "https://localhost:8080/"
        },
        "outputId": "f57bf8f0-0f0c-4531-b7ee-ac0c0b32be39"
      },
      "execution_count": 2,
      "outputs": [
        {
          "output_type": "stream",
          "name": "stdout",
          "text": [
            "Downloading http://yann.lecun.com/exdb/mnist/train-images-idx3-ubyte.gz\n",
            "Downloading http://yann.lecun.com/exdb/mnist/train-images-idx3-ubyte.gz to data/MNIST/raw/train-images-idx3-ubyte.gz\n"
          ]
        },
        {
          "output_type": "stream",
          "name": "stderr",
          "text": [
            "100%|██████████| 9912422/9912422 [00:00<00:00, 132298441.23it/s]"
          ]
        },
        {
          "output_type": "stream",
          "name": "stdout",
          "text": [
            "Extracting data/MNIST/raw/train-images-idx3-ubyte.gz to data/MNIST/raw\n"
          ]
        },
        {
          "output_type": "stream",
          "name": "stderr",
          "text": [
            "\n"
          ]
        },
        {
          "output_type": "stream",
          "name": "stdout",
          "text": [
            "\n",
            "Downloading http://yann.lecun.com/exdb/mnist/train-labels-idx1-ubyte.gz\n",
            "Downloading http://yann.lecun.com/exdb/mnist/train-labels-idx1-ubyte.gz to data/MNIST/raw/train-labels-idx1-ubyte.gz\n"
          ]
        },
        {
          "output_type": "stream",
          "name": "stderr",
          "text": [
            "100%|██████████| 28881/28881 [00:00<00:00, 107485087.69it/s]"
          ]
        },
        {
          "output_type": "stream",
          "name": "stdout",
          "text": [
            "Extracting data/MNIST/raw/train-labels-idx1-ubyte.gz to data/MNIST/raw\n",
            "\n",
            "Downloading http://yann.lecun.com/exdb/mnist/t10k-images-idx3-ubyte.gz\n",
            "Downloading http://yann.lecun.com/exdb/mnist/t10k-images-idx3-ubyte.gz to data/MNIST/raw/t10k-images-idx3-ubyte.gz\n"
          ]
        },
        {
          "output_type": "stream",
          "name": "stderr",
          "text": [
            "\n",
            "100%|██████████| 1648877/1648877 [00:00<00:00, 104816407.70it/s]\n"
          ]
        },
        {
          "output_type": "stream",
          "name": "stdout",
          "text": [
            "Extracting data/MNIST/raw/t10k-images-idx3-ubyte.gz to data/MNIST/raw\n",
            "\n",
            "Downloading http://yann.lecun.com/exdb/mnist/t10k-labels-idx1-ubyte.gz\n",
            "Downloading http://yann.lecun.com/exdb/mnist/t10k-labels-idx1-ubyte.gz to data/MNIST/raw/t10k-labels-idx1-ubyte.gz\n"
          ]
        },
        {
          "output_type": "stream",
          "name": "stderr",
          "text": [
            "100%|██████████| 4542/4542 [00:00<00:00, 18143360.73it/s]\n"
          ]
        },
        {
          "output_type": "stream",
          "name": "stdout",
          "text": [
            "Extracting data/MNIST/raw/t10k-labels-idx1-ubyte.gz to data/MNIST/raw\n",
            "\n"
          ]
        }
      ]
    },
    {
      "cell_type": "code",
      "source": [
        "batch_size=60\n",
        "train_dataloader=DataLoader(training_data,batch_size=batch_size,shuffle=True)\n",
        "test_dataloader=DataLoader(testing_data,batch_size=batch_size,shuffle=True)"
      ],
      "metadata": {
        "id": "yA5f54bjq6Pd"
      },
      "execution_count": 3,
      "outputs": []
    },
    {
      "cell_type": "code",
      "source": [
        "len(training_data)"
      ],
      "metadata": {
        "colab": {
          "base_uri": "https://localhost:8080/"
        },
        "id": "pHILjg_WgZeG",
        "outputId": "d54685f1-0e3f-42da-8680-40d0b2dba868"
      },
      "execution_count": 4,
      "outputs": [
        {
          "output_type": "execute_result",
          "data": {
            "text/plain": [
              "60000"
            ]
          },
          "metadata": {},
          "execution_count": 4
        }
      ]
    },
    {
      "cell_type": "code",
      "source": [
        "class NeuralNetwork(nn.Module):\n",
        "\n",
        "  def __init__(self):\n",
        "    super(NeuralNetwork,self).__init__()\n",
        "\n",
        "    ## Init function is used to define the architecture blocks\n",
        "    self.flatten = nn.Flatten() # 28 x 28 x1 - 784 x 1 vector\n",
        "    self.layer1 = nn.Linear(784,512)\n",
        "    self.dropout1=nn.Dropout(0.4)\n",
        "    self.layer2 = nn.Linear(512,256)\n",
        "    self.dropout2=nn.Dropout(0.3)\n",
        "    self.layer3 = nn.Linear(256,10)\n",
        "\n",
        "  def forward(self,x):\n",
        "    x = self.flatten(x)\n",
        "    x = self.layer1(x)\n",
        "    x = self.dropout1(x)\n",
        "    x = f.relu(x) #F.sigmoid()\n",
        "    x = self.layer2(x)\n",
        "    x = self.dropout2(x)\n",
        "    x = f.sigmoid(x)\n",
        "    x = self.layer3(x)\n",
        "    return x\n",
        "\n",
        "device = (\"cuda\" if torch.cuda.is_available() else \"cpu\")\n",
        "\n",
        "model = NeuralNetwork()\n",
        "model.to(device)\n",
        "print(model)\n",
        "\n",
        "loss_fn = nn.CrossEntropyLoss()\n",
        "optimizer = torch.optim.SGD(model.parameters(),lr = 1e-2)"
      ],
      "metadata": {
        "colab": {
          "base_uri": "https://localhost:8080/"
        },
        "id": "WSUUb7CzbIAo",
        "outputId": "5b8c1780-d3b6-4c1c-801a-65ebd6d113a8"
      },
      "execution_count": 5,
      "outputs": [
        {
          "output_type": "stream",
          "name": "stdout",
          "text": [
            "NeuralNetwork(\n",
            "  (flatten): Flatten(start_dim=1, end_dim=-1)\n",
            "  (layer1): Linear(in_features=784, out_features=512, bias=True)\n",
            "  (dropout1): Dropout(p=0.4, inplace=False)\n",
            "  (layer2): Linear(in_features=512, out_features=256, bias=True)\n",
            "  (dropout2): Dropout(p=0.3, inplace=False)\n",
            "  (layer3): Linear(in_features=256, out_features=10, bias=True)\n",
            ")\n"
          ]
        }
      ]
    },
    {
      "cell_type": "code",
      "source": [
        "figure = plt.figure(figsize=(8,8))\n",
        "\n",
        "cols, rows = 3,3\n",
        "\n",
        "for i in range(1,rows*cols+1):\n",
        "  sample_idx = torch.randint(len(training_data),size=(1,)).item()\n",
        "  img, label = training_data[sample_idx]\n",
        "  figure.add_subplot(rows,cols,i)\n",
        "  #plt.title(labels_map[label])\n",
        "  plt.imshow(img.squeeze())"
      ],
      "metadata": {
        "colab": {
          "base_uri": "https://localhost:8080/",
          "height": 678
        },
        "id": "re9_23MmgsGl",
        "outputId": "9e4c697e-574a-44bc-e92e-adcd8049150c"
      },
      "execution_count": 6,
      "outputs": [
        {
          "output_type": "display_data",
          "data": {
            "text/plain": [
              "<Figure size 800x800 with 9 Axes>"
            ],
            "image/png": "[encoded data removed]"
          },
          "metadata": {}
        }
      ]
    },
    {
      "cell_type": "code",
      "source": [
        "# Initialize TensorBoard writer\n",
        "\n",
        "writer = SummaryWriter('runs/fashion_mnist') #runs is a directory under this fashion_minst file is created"
      ],
      "metadata": {
        "id": "tQfLIyCMr9D6"
      },
      "execution_count": 7,
      "outputs": []
    },
    {
      "cell_type": "code",
      "source": [
        "#Adding images to tensor board\n",
        "#we use the torchvision.utils.make_grid() to convert a batch of tensor into 3xHxW format\n",
        "\n",
        "#writer.add_image('img', img)\n",
        "dataiter = iter(train_dataloader)\n",
        "images, labels = next(dataiter)\n",
        "\n",
        "# create grid of images\n",
        "img_grid = torchvision.utils.make_grid(images)\n",
        "\n",
        "# show images\n",
        "#plt.imshow(img_grid)\n",
        "\n",
        "# write to tensorboard\n",
        "writer.add_image('four_fashion_mnist_images', img_grid)"
      ],
      "metadata": {
        "id": "XioIZ9c1_Pwj"
      },
      "execution_count": 13,
      "outputs": []
    },
    {
      "cell_type": "code",
      "source": [
        "train_loss=0.0\n",
        "def train_loop(train_dataloader,model,loss_fn,optimizer):\n",
        "  train_loss=0.0\n",
        "  for batch, (X,y) in enumerate(train_dataloader):\n",
        "    X = X.to(device)\n",
        "    y = y.to(device)\n",
        "\n",
        "\n",
        "    pred = model(X)\n",
        "    loss = loss_fn(pred,y)\n",
        "    optimizer.zero_grad()\n",
        "    loss.backward()\n",
        "    optimizer.step()\n",
        "\n",
        "  train_loss=+loss.item()\n",
        "\n",
        "    # Calculate average training loss for this epoch\n",
        "  train_loss =  train_loss / len(train_dataloader)\n",
        "    #print(runing_loss)\n",
        "\n",
        "  return train_loss"
      ],
      "metadata": {
        "id": "rlx9YmptsTcN"
      },
      "execution_count": 34,
      "outputs": []
    },
    {
      "cell_type": "code",
      "source": [
        "test_loss=0.0\n",
        "def test_loop(test_dataloader,model,loss_fn):\n",
        "  test_loss=0.0\n",
        "  model.eval()\n",
        "\n",
        "  for X,y in test_dataloader:\n",
        "     X = X.to(device)\n",
        "     y = y.to(device)\n",
        "\n",
        "     pred = model(X)\n",
        "  test_loss += loss_fn(pred,y).item()\n",
        "  test_loss = test_loss/len(test_dataloader)\n",
        "\n",
        "  print(f'Test Loss: {test_loss:.4f}')"
      ],
      "metadata": {
        "id": "xP7hH30Edgrq"
      },
      "execution_count": 39,
      "outputs": []
    },
    {
      "cell_type": "code",
      "source": [
        "epoch=5\n",
        "for t in range(epoch):\n",
        "  train_loop(train_dataloader,model,loss_fn,optimizer)\n",
        "  test_loop(test_dataloader,model,loss_fn)\n"
      ],
      "metadata": {
        "colab": {
          "base_uri": "https://localhost:8080/"
        },
        "id": "3djYFR0OQpSl",
        "outputId": "434235c3-eace-435d-b0a5-90b681926848"
      },
      "execution_count": 40,
      "outputs": [
        {
          "output_type": "stream",
          "name": "stdout",
          "text": [
            "Test Loss: 0.0014\n",
            "Test Loss: 0.0008\n",
            "Test Loss: 0.0020\n",
            "Test Loss: 0.0021\n",
            "Test Loss: 0.0008\n"
          ]
        }
      ]
    },
    {
      "cell_type": "code",
      "source": [
        "# Log training loss to TensorBoard\n",
        "writer.add_scalar('Training Loss',train_loss, epoch + 1)\n",
        "writer.add_scalar('Testing Loss',test_loss, epoch + 1)\n",
        "\n",
        "#print(f'Epoch [{epoch + 1}/10], Train Loss: {runing_loss}')\n",
        "\n",
        "for name, param in model.named_parameters():\n",
        " writer.add_histogram(name, param, epoch + 1)  #for adding histograms"
      ],
      "metadata": {
        "id": "QZM4KSfCchKm"
      },
      "execution_count": 41,
      "outputs": []
    },
    {
      "cell_type": "code",
      "source": [
        "print(train_loss)"
      ],
      "metadata": {
        "colab": {
          "base_uri": "https://localhost:8080/"
        },
        "id": "i6CCy1PVyH4R",
        "outputId": "b6a7bcad-eac3-4a0b-be46-3efbabb62f69"
      },
      "execution_count": 42,
      "outputs": [
        {
          "output_type": "stream",
          "name": "stdout",
          "text": [
            "0.0\n"
          ]
        }
      ]
    },
    {
      "cell_type": "code",
      "source": [
        "# Close TensorBoard writer\n",
        "writer.close()"
      ],
      "metadata": {
        "id": "YxxYOO4nvf3s"
      },
      "execution_count": 43,
      "outputs": []
    },
    {
      "cell_type": "code",
      "source": [
        "%load_ext tensorboard\n",
        "%tensorboard --logdir runs\n",
        "%reload_ext tensorboard"
      ],
      "metadata": {
        "id": "Rp-iwifKcHVc"
      },
      "execution_count": null,
      "outputs": []
    },
    {
      "cell_type": "code",
      "source": [
        "\n"
      ],
      "metadata": {
        "id": "Uf_8ATrVjgAY"
      },
      "execution_count": 46,
      "outputs": []
    }
  ]
}