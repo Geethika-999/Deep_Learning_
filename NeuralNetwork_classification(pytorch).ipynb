{
  "nbformat": 4,
  "nbformat_minor": 0,
  "metadata": {
    "colab": {
      "provenance": [],
      "gpuType": "T4"
    },
    "kernelspec": {
      "name": "python3",
      "display_name": "Python 3"
    },
    "language_info": {
      "name": "python"
    },
    "accelerator": "GPU"
  },
  "cells": [
    {
      "cell_type": "code",
      "execution_count": null,
      "metadata": {
        "id": "vlWF15ZyYZm7"
      },
      "outputs": [],
      "source": [
        "import torch\n",
        "from torch import nn # importing the neural network library\n",
        "from torch.utils.data import DataLoader # creates the entier data into batches\n",
        "'''\n",
        "Gradient descent = All the datapoints - compute output - compute loss - gradient descent\n",
        "Stochastic Gradient Descent = Single datapoint - compute output - compute loss\n",
        "                                  - gradient descent - next data point\n",
        "Mini batch Gradient Descent = create bathes of data - compute output foe each batch -\n",
        "                                - gradinet descent - next batch\n",
        "'''\n",
        "from torchvision import datasets # download the dataset\n",
        "from torchvision.transforms import ToTensor # is used to convert the input to torch tensor format\n",
        "import matplotlib.pyplot as plt\n",
        "import torch.nn.functional as F"
      ]
    },
    {
      "cell_type": "markdown",
      "source": [
        "### Downloading the dataset"
      ],
      "metadata": {
        "id": "jzRRUi3l-9pc"
      }
    },
    {
      "cell_type": "code",
      "source": [
        "train_data = datasets.FashionMNIST(root ='data',train =True,download =True,transform =ToTensor())\n",
        "test_data = datasets.FashionMNIST(root ='data',train =False,download =True,transform =ToTensor())"
      ],
      "metadata": {
        "colab": {
          "base_uri": "https://localhost:8080/"
        },
        "id": "6aRyxTHc-KQp",
        "outputId": "8f8cd3f0-cafd-4fc3-b815-a4361488ae1a"
      },
      "execution_count": null,
      "outputs": [
        {
          "output_type": "stream",
          "name": "stdout",
          "text": [
            "Downloading http://fashion-mnist.s3-website.eu-central-1.amazonaws.com/train-images-idx3-ubyte.gz\n",
            "Downloading http://fashion-mnist.s3-website.eu-central-1.amazonaws.com/train-images-idx3-ubyte.gz to data/FashionMNIST/raw/train-images-idx3-ubyte.gz\n"
          ]
        },
        {
          "output_type": "stream",
          "name": "stderr",
          "text": [
            "100%|██████████| 26421880/26421880 [00:02<00:00, 12812699.81it/s]\n"
          ]
        },
        {
          "output_type": "stream",
          "name": "stdout",
          "text": [
            "Extracting data/FashionMNIST/raw/train-images-idx3-ubyte.gz to data/FashionMNIST/raw\n",
            "\n",
            "Downloading http://fashion-mnist.s3-website.eu-central-1.amazonaws.com/train-labels-idx1-ubyte.gz\n",
            "Downloading http://fashion-mnist.s3-website.eu-central-1.amazonaws.com/train-labels-idx1-ubyte.gz to data/FashionMNIST/raw/train-labels-idx1-ubyte.gz\n"
          ]
        },
        {
          "output_type": "stream",
          "name": "stderr",
          "text": [
            "100%|██████████| 29515/29515 [00:00<00:00, 201163.94it/s]\n"
          ]
        },
        {
          "output_type": "stream",
          "name": "stdout",
          "text": [
            "Extracting data/FashionMNIST/raw/train-labels-idx1-ubyte.gz to data/FashionMNIST/raw\n",
            "\n",
            "Downloading http://fashion-mnist.s3-website.eu-central-1.amazonaws.com/t10k-images-idx3-ubyte.gz\n",
            "Downloading http://fashion-mnist.s3-website.eu-central-1.amazonaws.com/t10k-images-idx3-ubyte.gz to data/FashionMNIST/raw/t10k-images-idx3-ubyte.gz\n"
          ]
        },
        {
          "output_type": "stream",
          "name": "stderr",
          "text": [
            "100%|██████████| 4422102/4422102 [00:01<00:00, 3767969.22it/s]\n"
          ]
        },
        {
          "output_type": "stream",
          "name": "stdout",
          "text": [
            "Extracting data/FashionMNIST/raw/t10k-images-idx3-ubyte.gz to data/FashionMNIST/raw\n",
            "\n",
            "Downloading http://fashion-mnist.s3-website.eu-central-1.amazonaws.com/t10k-labels-idx1-ubyte.gz\n",
            "Downloading http://fashion-mnist.s3-website.eu-central-1.amazonaws.com/t10k-labels-idx1-ubyte.gz to data/FashionMNIST/raw/t10k-labels-idx1-ubyte.gz\n"
          ]
        },
        {
          "output_type": "stream",
          "name": "stderr",
          "text": [
            "100%|██████████| 5148/5148 [00:00<00:00, 6135912.76it/s]"
          ]
        },
        {
          "output_type": "stream",
          "name": "stdout",
          "text": [
            "Extracting data/FashionMNIST/raw/t10k-labels-idx1-ubyte.gz to data/FashionMNIST/raw\n",
            "\n"
          ]
        },
        {
          "output_type": "stream",
          "name": "stderr",
          "text": [
            "\n"
          ]
        }
      ]
    },
    {
      "cell_type": "code",
      "source": [
        "labels_map = {\n",
        "    0: \"sweat_shirt\",\n",
        "    1: \"Trouser\",\n",
        "    2: \"Pullover\",\n",
        "    3: \"Dress\",\n",
        "    4: \"Coat\",\n",
        "    5: \"Sandal\",\n",
        "    6: \"Shirt\",\n",
        "    7: \"Sneaker\",\n",
        "    8: \"Bag\",\n",
        "    9: \"slipper\",\n",
        "}\n",
        "\n",
        "figure= plt.figure(figsize=(8,6))\n",
        "cols,rows=3,3\n",
        "\n",
        "for i in range(1,rows*cols+1):\n",
        "  sample_idx = torch.randint(len(train_data),size=(1,)).item()\n",
        "  img, label = train_data[sample_idx]\n",
        "  figure.add_subplot(rows,cols,i)\n",
        "  plt.title(labels_map[label])\n",
        "  plt.imshow(img.squeeze())\n",
        "# for over"
      ],
      "metadata": {
        "colab": {
          "base_uri": "https://localhost:8080/",
          "height": 545
        },
        "id": "UspRLowZ_FWL",
        "outputId": "3cb81c4d-f554-41f1-cab7-ca36a391d672"
      },
      "execution_count": null,
      "outputs": [
        {
          "output_type": "display_data",
          "data": {
            "text/plain": [
              "<Figure size 800x600 with 9 Axes>"
            ],
            "image/png": "[encoded data removed]"
          },
          "metadata": {}
        }
      ]
    },
    {
      "cell_type": "code",
      "source": [
        "torch.randint(len(train_data),size=(1,)).item()"
      ],
      "metadata": {
        "colab": {
          "base_uri": "https://localhost:8080/"
        },
        "id": "JptKjI2qEGkG",
        "outputId": "450db055-420e-4f49-fa9e-efd137b0683a"
      },
      "execution_count": null,
      "outputs": [
        {
          "output_type": "execute_result",
          "data": {
            "text/plain": [
              "21565"
            ]
          },
          "metadata": {},
          "execution_count": 8
        }
      ]
    },
    {
      "cell_type": "code",
      "source": [
        "len(train_data)"
      ],
      "metadata": {
        "colab": {
          "base_uri": "https://localhost:8080/"
        },
        "id": "u5h3tBJtEye6",
        "outputId": "2d39c4e2-eab6-45f3-adee-a0a50b509cc4"
      },
      "execution_count": null,
      "outputs": [
        {
          "output_type": "execute_result",
          "data": {
            "text/plain": [
              "60000"
            ]
          },
          "metadata": {},
          "execution_count": 9
        }
      ]
    },
    {
      "cell_type": "markdown",
      "source": [
        "### Batching"
      ],
      "metadata": {
        "id": "AhrVosIlF9gX"
      }
    },
    {
      "cell_type": "code",
      "source": [
        "batch_size = 64\n",
        "\n",
        "train_dataloader = DataLoader(train_data,batch_size=batch_size)\n",
        "test_dataloader = DataLoader(test_data,batch_size=batch_size)"
      ],
      "metadata": {
        "id": "S1A73wEoFdkJ"
      },
      "execution_count": null,
      "outputs": []
    },
    {
      "cell_type": "markdown",
      "source": [
        "### Model  Creation"
      ],
      "metadata": {
        "id": "oARP5v6GGsBk"
      }
    },
    {
      "cell_type": "code",
      "source": [
        "class NeuralNetwork(nn.Module):\n",
        "\n",
        "  def __init__(self):\n",
        "    super(NeuralNetwork,self).__init__() # Init function is used to define the architecture blocks\n",
        "\n",
        "    ## creating multi-layers in the architecture\n",
        "    self.flatten = nn.Flatten() # (28 x 28 x 1) - (784 x 1) vector\n",
        "    self.layer1 = nn.Linear(784,512)\n",
        "    self.dropout1=nn.Dropout(0.4)\n",
        "    self.layer2 = nn.Linear(512,256)\n",
        "    self.dropout2=nn.Dropout(0.3)\n",
        "    self.layer3 = nn.Linear(256,10)\n",
        "\n",
        "  def forward(self,x):\n",
        "    x = self.flatten(x)\n",
        "    x = self.layer1(x)\n",
        "    x = self.dropout1(x)\n",
        "    x = F.relu(x)\n",
        "    x = self.layer2(x)\n",
        "    x = self.dropout2(x)\n",
        "    x = F.sigmoid(x)\n",
        "    x = self.layer3(x)\n",
        "    x = F.softmax(x)\n",
        "    return x\n",
        "\n",
        "# device to run in either gpu or cpu\n",
        "if torch.cuda.is_available():\n",
        "  device = 'cuda'\n",
        "else:\n",
        "  device = 'cpu'\n",
        "\n",
        "# model to the device\n",
        "model = NeuralNetwork()\n",
        "model.to(device)\n",
        "model\n",
        "\n",
        "# loss function and optimizer\n",
        "loss_fn = nn.CrossEntropyLoss()\n",
        "optimizer = torch.optim.SGD(model.parameters(),lr = 1e-2)"
      ],
      "metadata": {
        "id": "q66it73wGp8v"
      },
      "execution_count": null,
      "outputs": []
    },
    {
      "cell_type": "markdown",
      "source": [
        "### Training the model"
      ],
      "metadata": {
        "id": "RGmYzL77OT6x"
      }
    },
    {
      "cell_type": "code",
      "source": [
        "def training_loop(train_dataloader,model,loss_,optimizer):\n",
        "\n",
        "  #pass every batch of data to the model\n",
        "  for batch, (X,y) in enumerate(train_dataloader):\n",
        "    X = X.to(device)\n",
        "    y = y.to(device)\n",
        "\n",
        "    pred = model(X)\n",
        "    loss = loss_fn(pred,y)\n",
        "    optimizer.zero_grad() #\n",
        "    loss.backward()\n",
        "    optimizer.step()\n",
        "\n",
        "\n",
        "    #train_loss+=loss.item()\n",
        "    if batch% 100 ==0:\n",
        "      print(f'loss:{loss.item()}')"
      ],
      "metadata": {
        "id": "TkIdzNelLLSG"
      },
      "execution_count": null,
      "outputs": []
    },
    {
      "cell_type": "markdown",
      "source": [
        "### Testing the  model"
      ],
      "metadata": {
        "id": "5jFKrsw0VjfI"
      }
    },
    {
      "cell_type": "code",
      "source": [
        "def testing_loop(test_dataloader,model,loss_):\n",
        "## testing the model\n",
        "  model.eval()\n",
        "  test_loss = 0.0\n",
        "  correct = 0\n",
        "  for X,y in test_dataloader:\n",
        "    X = X.to(device)\n",
        "    y = y.to(device)\n",
        "\n",
        "    pred = model(X)\n",
        "  test_loss += loss_fn(pred,y).item()\n",
        "  average_loss = test_loss/len(test_dataloader)\n",
        "\n",
        "  print(f'Test Loss: {average_loss:.4f}')"
      ],
      "metadata": {
        "id": "OUBGx1EsT5ax"
      },
      "execution_count": null,
      "outputs": []
    },
    {
      "cell_type": "code",
      "source": [
        "epochs = 10 #how many times you have to send data to the model\n",
        "i=1\n",
        "for t in range(epochs):\n",
        "  training_loop(train_dataloader,model,loss_fn,optimizer)\n",
        "  testing_loop(test_dataloader,model,loss_fn)\n",
        "  print(f' ==================== EPOCH : {t} ============================')"
      ],
      "metadata": {
        "colab": {
          "base_uri": "https://localhost:8080/"
        },
        "id": "4GFI5E7OUHSQ",
        "outputId": "5e73e177-46eb-4aeb-c81a-83ce5f9dde18"
      },
      "execution_count": null,
      "outputs": [
        {
          "output_type": "stream",
          "name": "stderr",
          "text": [
            "<ipython-input-11-7609b44f4341>:23: UserWarning: Implicit dimension choice for softmax has been deprecated. Change the call to include dim=X as an argument.\n",
            "  x = F.softmax(x)\n"
          ]
        },
        {
          "output_type": "stream",
          "name": "stdout",
          "text": [
            "loss:2.302381992340088\n",
            "loss:2.3024649620056152\n",
            "loss:2.3013556003570557\n",
            "loss:2.301193952560425\n",
            "loss:2.3007144927978516\n",
            "loss:2.303025245666504\n",
            "loss:2.30228328704834\n",
            "loss:2.3044095039367676\n",
            "loss:2.300708293914795\n",
            "loss:2.298841714859009\n",
            "Test Loss: 0.0147\n",
            " ==================== EPOCH : 0 ============================\n",
            "loss:2.301295280456543\n",
            "loss:2.3011584281921387\n",
            "loss:2.3003592491149902\n",
            "loss:2.299919843673706\n",
            "loss:2.2992358207702637\n",
            "loss:2.3006575107574463\n",
            "loss:2.299180269241333\n",
            "loss:2.3009204864501953\n",
            "loss:2.299203395843506\n",
            "loss:2.2953996658325195\n",
            "Test Loss: 0.0147\n",
            " ==================== EPOCH : 1 ============================\n",
            "loss:2.2997875213623047\n",
            "loss:2.299727201461792\n",
            "loss:2.298780679702759\n",
            "loss:2.298274517059326\n",
            "loss:2.2960989475250244\n",
            "loss:2.2977256774902344\n",
            "loss:2.2951500415802\n",
            "loss:2.2971885204315186\n",
            "loss:2.2965285778045654\n",
            "loss:2.289628744125366\n",
            "Test Loss: 0.0146\n",
            " ==================== EPOCH : 2 ============================\n",
            "loss:2.2976224422454834\n",
            "loss:2.297677516937256\n",
            "loss:2.296424388885498\n",
            "loss:2.295424222946167\n",
            "loss:2.2911815643310547\n",
            "loss:2.2933013439178467\n",
            "loss:2.2881550788879395\n",
            "loss:2.291459798812866\n",
            "loss:2.2914836406707764\n",
            "loss:2.2780771255493164\n",
            "Test Loss: 0.0146\n",
            " ==================== EPOCH : 3 ============================\n",
            "loss:2.2937304973602295\n",
            "loss:2.294034481048584\n",
            "loss:2.2921361923217773\n",
            "loss:2.2893929481506348\n",
            "loss:2.282809257507324\n",
            "loss:2.2841596603393555\n",
            "loss:2.273256540298462\n",
            "loss:2.2798798084259033\n",
            "loss:2.2794153690338135\n",
            "loss:2.2503230571746826\n",
            "Test Loss: 0.0146\n",
            " ==================== EPOCH : 4 ============================\n",
            "loss:2.2843687534332275\n",
            "loss:2.2856056690216064\n",
            "loss:2.2818145751953125\n",
            "loss:2.2726173400878906\n",
            "loss:2.26518177986145\n",
            "loss:2.2592766284942627\n",
            "loss:2.2390174865722656\n",
            "loss:2.2524263858795166\n",
            "loss:2.2489802837371826\n",
            "loss:2.1893608570098877\n",
            "Test Loss: 0.0145\n",
            " ==================== EPOCH : 5 ============================\n",
            "loss:2.261443614959717\n",
            "loss:2.263488292694092\n",
            "loss:2.2542686462402344\n",
            "loss:2.237281560897827\n",
            "loss:2.2216732501983643\n",
            "loss:2.2119088172912598\n",
            "loss:2.1900501251220703\n",
            "loss:2.2028419971466064\n",
            "loss:2.2150981426239014\n",
            "loss:2.1284241676330566\n",
            "Test Loss: 0.0141\n",
            " ==================== EPOCH : 6 ============================\n",
            "loss:2.230583906173706\n",
            "loss:2.2259042263031006\n",
            "loss:2.205146551132202\n",
            "loss:2.1899003982543945\n",
            "loss:2.1454570293426514\n",
            "loss:2.1552388668060303\n",
            "loss:2.1263504028320312\n",
            "loss:2.1431124210357666\n",
            "loss:2.1816725730895996\n",
            "loss:2.0564866065979004\n",
            "Test Loss: 0.0135\n",
            " ==================== EPOCH : 7 ============================\n",
            "loss:2.205322027206421\n",
            "loss:2.198181390762329\n",
            "loss:2.1615896224975586\n",
            "loss:2.137467384338379\n",
            "loss:2.085282802581787\n",
            "loss:2.1051604747772217\n",
            "loss:2.0781328678131104\n",
            "loss:2.1016764640808105\n",
            "loss:2.1455130577087402\n",
            "loss:2.0040833950042725\n",
            "Test Loss: 0.0132\n",
            " ==================== EPOCH : 8 ============================\n",
            "loss:2.1797077655792236\n",
            "loss:2.1720895767211914\n",
            "loss:2.131518602371216\n",
            "loss:2.11106538772583\n",
            "loss:2.0390639305114746\n",
            "loss:2.0740067958831787\n",
            "loss:2.0444633960723877\n",
            "loss:2.0692150592803955\n",
            "loss:2.1114349365234375\n",
            "loss:1.9794092178344727\n",
            "Test Loss: 0.0131\n",
            " ==================== EPOCH : 9 ============================\n"
          ]
        }
      ]
    },
    {
      "cell_type": "code",
      "source": [],
      "metadata": {
        "id": "O1I2I8B0USyJ"
      },
      "execution_count": null,
      "outputs": []
    }
  ]
}