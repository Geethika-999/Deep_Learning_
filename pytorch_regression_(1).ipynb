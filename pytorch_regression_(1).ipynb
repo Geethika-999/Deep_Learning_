{
  "metadata": {
    "kernelspec": {
      "language": "python",
      "display_name": "Python 3",
      "name": "python3"
    },
    "language_info": {
      "name": "python",
      "version": "3.10.12",
      "mimetype": "text/x-python",
      "codemirror_mode": {
        "name": "ipython",
        "version": 3
      },
      "pygments_lexer": "ipython3",
      "nbconvert_exporter": "python",
      "file_extension": ".py"
    },
    "colab": {
      "provenance": []
    }
  },
  "nbformat_minor": 0,
  "nbformat": 4,
  "cells": [
    {
      "cell_type": "markdown",
      "source": [
        "# importing libraries\n",
        "#"
      ],
      "metadata": {
        "id": "LtyZilOeZYND"
      }
    },
    {
      "cell_type": "code",
      "source": [
        "import numpy as np # linear algebra\n",
        "import pandas as pd\n",
        "import matplotlib.pyplot as plt\n",
        "import torch\n",
        "import torch.nn as nn\n",
        "import torch.functional as F\n",
        "from torch.utils.data import DataLoader   #for batch seperation\n",
        "from torchvision.transforms import ToTensor  ####convert tensors to vectors\n",
        "from torch.utils import data\n"
      ],
      "metadata": {
        "execution": {
          "iopub.status.busy": "2023-09-12T09:15:12.766762Z",
          "iopub.execute_input": "2023-09-12T09:15:12.767130Z",
          "iopub.status.idle": "2023-09-12T09:15:12.772937Z",
          "shell.execute_reply.started": "2023-09-12T09:15:12.767101Z",
          "shell.execute_reply": "2023-09-12T09:15:12.771826Z"
        },
        "trusted": true,
        "id": "zLPYhU-kZYNG"
      },
      "execution_count": null,
      "outputs": []
    },
    {
      "cell_type": "markdown",
      "source": [
        "# importing data"
      ],
      "metadata": {
        "id": "GBXDcTnnZYNH"
      }
    },
    {
      "cell_type": "code",
      "source": [
        "train_data  = pd.read_csv('/kaggle/input/house-prices-advanced-regression-techniques/train.csv')\n",
        "test_data = pd.read_csv('/kaggle/input/house-prices-advanced-regression-techniques/test.csv')\n",
        "train_data.head()\n"
      ],
      "metadata": {
        "execution": {
          "iopub.status.busy": "2023-09-12T09:15:12.774997Z",
          "iopub.execute_input": "2023-09-12T09:15:12.775378Z",
          "iopub.status.idle": "2023-09-12T09:15:12.856634Z",
          "shell.execute_reply.started": "2023-09-12T09:15:12.775344Z",
          "shell.execute_reply": "2023-09-12T09:15:12.855627Z"
        },
        "trusted": true,
        "id": "5plBT89cZYNH"
      },
      "execution_count": null,
      "outputs": []
    },
    {
      "cell_type": "code",
      "source": [
        "train_data.dtypes"
      ],
      "metadata": {
        "execution": {
          "iopub.status.busy": "2023-09-12T09:15:12.858412Z",
          "iopub.execute_input": "2023-09-12T09:15:12.861835Z",
          "iopub.status.idle": "2023-09-12T09:15:12.871432Z",
          "shell.execute_reply.started": "2023-09-12T09:15:12.861800Z",
          "shell.execute_reply": "2023-09-12T09:15:12.870307Z"
        },
        "trusted": true,
        "id": "yYL3QELEZYNH"
      },
      "execution_count": null,
      "outputs": []
    },
    {
      "cell_type": "code",
      "source": [
        "train_data.select_dtypes( exclude= 'object')"
      ],
      "metadata": {
        "execution": {
          "iopub.status.busy": "2023-09-12T09:15:12.872997Z",
          "iopub.execute_input": "2023-09-12T09:15:12.873598Z",
          "iopub.status.idle": "2023-09-12T09:15:12.902359Z",
          "shell.execute_reply.started": "2023-09-12T09:15:12.873561Z",
          "shell.execute_reply": "2023-09-12T09:15:12.901288Z"
        },
        "trusted": true,
        "id": "QDLSNHHKZYNI"
      },
      "execution_count": null,
      "outputs": []
    },
    {
      "cell_type": "code",
      "source": [
        "f = train_data.select_dtypes( exclude= 'object').columns"
      ],
      "metadata": {
        "execution": {
          "iopub.status.busy": "2023-09-12T09:15:12.904879Z",
          "iopub.execute_input": "2023-09-12T09:15:12.905280Z",
          "iopub.status.idle": "2023-09-12T09:15:12.910954Z",
          "shell.execute_reply.started": "2023-09-12T09:15:12.905248Z",
          "shell.execute_reply": "2023-09-12T09:15:12.909833Z"
        },
        "trusted": true,
        "id": "X6uNXFpTZYNI"
      },
      "execution_count": null,
      "outputs": []
    },
    {
      "cell_type": "code",
      "source": [
        "train_data[f].corr()[['SalePrice']].sort_values(['SalePrice'],ascending = False)"
      ],
      "metadata": {
        "execution": {
          "iopub.status.busy": "2023-09-12T09:15:12.912336Z",
          "iopub.execute_input": "2023-09-12T09:15:12.912911Z",
          "iopub.status.idle": "2023-09-12T09:15:12.935654Z",
          "shell.execute_reply.started": "2023-09-12T09:15:12.912881Z",
          "shell.execute_reply": "2023-09-12T09:15:12.934746Z"
        },
        "trusted": true,
        "id": "cqD0mPZVZYNI"
      },
      "execution_count": null,
      "outputs": []
    },
    {
      "cell_type": "code",
      "source": [
        "test_data.drop_duplicates(inplace=True)\n",
        "train_data.drop_duplicates(inplace=True)"
      ],
      "metadata": {
        "execution": {
          "iopub.status.busy": "2023-09-12T09:15:12.937230Z",
          "iopub.execute_input": "2023-09-12T09:15:12.937559Z",
          "iopub.status.idle": "2023-09-12T09:15:12.977638Z",
          "shell.execute_reply.started": "2023-09-12T09:15:12.937528Z",
          "shell.execute_reply": "2023-09-12T09:15:12.976725Z"
        },
        "trusted": true,
        "id": "wnxTKImDZYNI"
      },
      "execution_count": null,
      "outputs": []
    },
    {
      "cell_type": "code",
      "source": [
        "train_data.info()"
      ],
      "metadata": {
        "execution": {
          "iopub.status.busy": "2023-09-12T09:15:12.978900Z",
          "iopub.execute_input": "2023-09-12T09:15:12.979319Z",
          "iopub.status.idle": "2023-09-12T09:15:13.012126Z",
          "shell.execute_reply.started": "2023-09-12T09:15:12.979285Z",
          "shell.execute_reply": "2023-09-12T09:15:13.011054Z"
        },
        "trusted": true,
        "id": "tIgNghMhZYNI"
      },
      "execution_count": null,
      "outputs": []
    },
    {
      "cell_type": "markdown",
      "source": [
        "# removing unnecessary columns"
      ],
      "metadata": {
        "id": "ra8oGs-jZYNI"
      }
    },
    {
      "cell_type": "code",
      "source": [
        "train_data =train_data.drop(['Id','Street', 'Utilities','LandSlope','Condition2','RoofMatl','CentralAir','LowQualFinSF','3SsnPorch','ScreenPorch','PoolArea','MiscVal',\"MiscFeature\",'Fence','PoolQC','Alley','MasVnrType','FireplaceQu'], axis=1)\n",
        "test_data =test_data.drop(['Id','Street', 'Utilities','LandSlope','Condition2','RoofMatl','CentralAir','LowQualFinSF','3SsnPorch','ScreenPorch','PoolArea','MiscVal',\"MiscFeature\",'Fence','PoolQC','Alley','MasVnrType','FireplaceQu'], axis=1)"
      ],
      "metadata": {
        "execution": {
          "iopub.status.busy": "2023-09-12T09:15:13.013817Z",
          "iopub.execute_input": "2023-09-12T09:15:13.014237Z",
          "iopub.status.idle": "2023-09-12T09:15:13.024234Z",
          "shell.execute_reply.started": "2023-09-12T09:15:13.014195Z",
          "shell.execute_reply": "2023-09-12T09:15:13.023016Z"
        },
        "trusted": true,
        "id": "Cki0BmbPZYNI"
      },
      "execution_count": null,
      "outputs": []
    },
    {
      "cell_type": "markdown",
      "source": [
        "# Merging correlated columns"
      ],
      "metadata": {
        "id": "s3enQwpOZYNJ"
      }
    },
    {
      "cell_type": "code",
      "source": [
        "for df in (train_data, test_data):\n",
        "    df[\"n_bathrooms\"] = df[\"BsmtFullBath\"] + (df[\"BsmtHalfBath\"]*0.5) + df[\"FullBath\"] + (df[\"HalfBath\"]*0.5)\n",
        "    df[\"area_with_basement\"]  = df[\"GrLivArea\"] + df[\"TotalBsmtSF\"]\n",
        ""
      ],
      "metadata": {
        "execution": {
          "iopub.status.busy": "2023-09-12T09:15:13.025793Z",
          "iopub.execute_input": "2023-09-12T09:15:13.026263Z",
          "iopub.status.idle": "2023-09-12T09:15:13.038867Z",
          "shell.execute_reply.started": "2023-09-12T09:15:13.026230Z",
          "shell.execute_reply": "2023-09-12T09:15:13.038137Z"
        },
        "trusted": true,
        "id": "vr6R2UUDZYNJ"
      },
      "execution_count": null,
      "outputs": []
    },
    {
      "cell_type": "code",
      "source": [
        "train_data =train_data.drop([\"BsmtFullBath\",\"BsmtHalfBath\",\"FullBath\",\"HalfBath\",'GrLivArea','TotalBsmtSF'], axis=1)\n",
        "test_data =test_data.drop([\"BsmtFullBath\",\"BsmtHalfBath\",\"FullBath\",\"HalfBath\",'GrLivArea','TotalBsmtSF'], axis=1)"
      ],
      "metadata": {
        "execution": {
          "iopub.status.busy": "2023-09-12T09:15:13.043389Z",
          "iopub.execute_input": "2023-09-12T09:15:13.043927Z",
          "iopub.status.idle": "2023-09-12T09:15:13.052165Z",
          "shell.execute_reply.started": "2023-09-12T09:15:13.043894Z",
          "shell.execute_reply": "2023-09-12T09:15:13.051500Z"
        },
        "trusted": true,
        "id": "wrWQNAueZYNJ"
      },
      "execution_count": null,
      "outputs": []
    },
    {
      "cell_type": "code",
      "source": [
        "train_data.info()"
      ],
      "metadata": {
        "execution": {
          "iopub.status.busy": "2023-09-12T09:15:13.053384Z",
          "iopub.execute_input": "2023-09-12T09:15:13.053975Z",
          "iopub.status.idle": "2023-09-12T09:15:13.077476Z",
          "shell.execute_reply.started": "2023-09-12T09:15:13.053942Z",
          "shell.execute_reply": "2023-09-12T09:15:13.076601Z"
        },
        "trusted": true,
        "id": "0BIqnUB7ZYNJ"
      },
      "execution_count": null,
      "outputs": []
    },
    {
      "cell_type": "code",
      "source": [
        "pd.set_option('display.max_rows',100)\n",
        "train_data.isna().sum()"
      ],
      "metadata": {
        "execution": {
          "iopub.status.busy": "2023-09-12T09:15:13.079299Z",
          "iopub.execute_input": "2023-09-12T09:15:13.080205Z",
          "iopub.status.idle": "2023-09-12T09:15:13.094174Z",
          "shell.execute_reply.started": "2023-09-12T09:15:13.080173Z",
          "shell.execute_reply": "2023-09-12T09:15:13.093073Z"
        },
        "trusted": true,
        "id": "Cga-XeumZYNJ"
      },
      "execution_count": null,
      "outputs": []
    },
    {
      "cell_type": "code",
      "source": [
        "# # train_data = train_data.fillna(,axis = 1)\n",
        "# # test_data = test_data.fillna(0,axis = 1)\n",
        "# train_data = train_data.fillna(train_data.mean())\n",
        "# test_data = test_data.fillna(test_data.mean())"
      ],
      "metadata": {
        "execution": {
          "iopub.status.busy": "2023-09-12T09:15:13.095822Z",
          "iopub.execute_input": "2023-09-12T09:15:13.096220Z",
          "iopub.status.idle": "2023-09-12T09:15:13.101003Z",
          "shell.execute_reply.started": "2023-09-12T09:15:13.096188Z",
          "shell.execute_reply": "2023-09-12T09:15:13.099829Z"
        },
        "trusted": true,
        "id": "-vCdzL1mZYNJ"
      },
      "execution_count": null,
      "outputs": []
    },
    {
      "cell_type": "markdown",
      "source": [
        "# Filling null values Categorical"
      ],
      "metadata": {
        "id": "R7aIurL6ZYNJ"
      }
    },
    {
      "cell_type": "markdown",
      "source": [
        "here 'c','n' are list contains categotical and numerical columns having null values in it"
      ],
      "metadata": {
        "id": "UdhYtF3FZYNJ"
      }
    },
    {
      "cell_type": "code",
      "source": [
        "c = []\n",
        "n = []\n",
        "for i in train_data.columns:\n",
        "    if train_data[i].isnull().sum() > 0:\n",
        "        if (train_data[i].dtype) == 'O':\n",
        "            c.append(i)\n",
        "        else :\n",
        "            n.append(i)\n",
        "print(c,n)"
      ],
      "metadata": {
        "execution": {
          "iopub.status.busy": "2023-09-12T09:15:13.102450Z",
          "iopub.execute_input": "2023-09-12T09:15:13.103211Z",
          "iopub.status.idle": "2023-09-12T09:15:13.133589Z",
          "shell.execute_reply.started": "2023-09-12T09:15:13.103119Z",
          "shell.execute_reply": "2023-09-12T09:15:13.132656Z"
        },
        "trusted": true,
        "id": "D7L8BvLfZYNJ"
      },
      "execution_count": null,
      "outputs": []
    },
    {
      "cell_type": "markdown",
      "source": [
        "here 'cc','nnn' are list contains categotical and numerical columns having null values in it"
      ],
      "metadata": {
        "id": "18OpLMAgZYNJ"
      }
    },
    {
      "cell_type": "code",
      "source": [
        "cc = []\n",
        "nnn = []\n",
        "for i in test_data.columns:\n",
        "    if test_data[i].isnull().sum() > 0:\n",
        "        if (test_data[i].dtype) == 'O':\n",
        "            cc.append(i)\n",
        "        else :\n",
        "            nnn.append(i)\n",
        "print(cc,nnn)"
      ],
      "metadata": {
        "execution": {
          "iopub.status.busy": "2023-09-12T09:15:13.134770Z",
          "iopub.execute_input": "2023-09-12T09:15:13.135798Z",
          "iopub.status.idle": "2023-09-12T09:15:13.163200Z",
          "shell.execute_reply.started": "2023-09-12T09:15:13.135767Z",
          "shell.execute_reply": "2023-09-12T09:15:13.162272Z"
        },
        "trusted": true,
        "id": "NSOg5XDfZYNK"
      },
      "execution_count": null,
      "outputs": []
    },
    {
      "cell_type": "code",
      "source": [],
      "metadata": {
        "id": "atwpLMUEZYNK"
      },
      "execution_count": null,
      "outputs": []
    },
    {
      "cell_type": "markdown",
      "source": [
        "filling nan with some values\n"
      ],
      "metadata": {
        "id": "yLNLVT1hZYNK"
      }
    },
    {
      "cell_type": "code",
      "source": [
        "for i in c :\n",
        "    if train_data[i].isnull().sum()> 0 and train_data[i][1] != 'NaN'  :\n",
        "        train_data[i] = train_data[i].fillna(train_data[i][1])\n",
        "    elif train_data[i].isnull().sum()> 0 and train_data[i][1] != 'NaN' :\n",
        "        train_data[i] = train_data[i].fillna(train_data[i][1])"
      ],
      "metadata": {
        "execution": {
          "iopub.status.busy": "2023-09-12T09:15:13.164675Z",
          "iopub.execute_input": "2023-09-12T09:15:13.165016Z",
          "iopub.status.idle": "2023-09-12T09:15:13.184811Z",
          "shell.execute_reply.started": "2023-09-12T09:15:13.164985Z",
          "shell.execute_reply": "2023-09-12T09:15:13.183494Z"
        },
        "trusted": true,
        "id": "mQGL_rmTZYNK"
      },
      "execution_count": null,
      "outputs": []
    },
    {
      "cell_type": "code",
      "source": [
        "for i in cc :\n",
        "    if test_data[i].isnull().sum()> 0 and test_data[i][1] != 'NaN'  :\n",
        "        test_data[i] = test_data[i].fillna(test_data[i][1])\n",
        "    elif test_data[i].isnull().sum()> 0 and test_data[i][10] != 'NaN' :\n",
        "        test_data[i] = test_data[i].fillna(test_data[i][-1])"
      ],
      "metadata": {
        "execution": {
          "iopub.status.busy": "2023-09-12T09:15:13.186367Z",
          "iopub.execute_input": "2023-09-12T09:15:13.187166Z",
          "iopub.status.idle": "2023-09-12T09:15:13.210384Z",
          "shell.execute_reply.started": "2023-09-12T09:15:13.187132Z",
          "shell.execute_reply": "2023-09-12T09:15:13.209474Z"
        },
        "trusted": true,
        "id": "juH_goUmZYNK"
      },
      "execution_count": null,
      "outputs": []
    },
    {
      "cell_type": "code",
      "source": [],
      "metadata": {
        "trusted": true,
        "id": "zMCAC_03ZYNK"
      },
      "execution_count": null,
      "outputs": []
    },
    {
      "cell_type": "code",
      "source": [
        "for i in cc :\n",
        "    print('-*-*'*10)\n",
        "    print(i)\n",
        "    print(test_data[i].isnull().sum())\n",
        "    print('___+++__'*8)"
      ],
      "metadata": {
        "execution": {
          "iopub.status.busy": "2023-09-12T09:15:13.212020Z",
          "iopub.execute_input": "2023-09-12T09:15:13.212723Z",
          "iopub.status.idle": "2023-09-12T09:15:13.226407Z",
          "shell.execute_reply.started": "2023-09-12T09:15:13.212682Z",
          "shell.execute_reply": "2023-09-12T09:15:13.225448Z"
        },
        "trusted": true,
        "id": "YtcUH1PaZYNK"
      },
      "execution_count": null,
      "outputs": []
    },
    {
      "cell_type": "code",
      "source": [
        "for i in c :\n",
        "    print('-*-*'*10)\n",
        "    print(i)\n",
        "    print(train_data[i].isnull().sum())\n",
        "    print('___+++__'*8)"
      ],
      "metadata": {
        "execution": {
          "iopub.status.busy": "2023-09-12T09:15:13.227984Z",
          "iopub.execute_input": "2023-09-12T09:15:13.228598Z",
          "iopub.status.idle": "2023-09-12T09:15:13.242053Z",
          "shell.execute_reply.started": "2023-09-12T09:15:13.228566Z",
          "shell.execute_reply": "2023-09-12T09:15:13.240998Z"
        },
        "trusted": true,
        "id": "c8Pd0lk_ZYNK"
      },
      "execution_count": null,
      "outputs": []
    },
    {
      "cell_type": "markdown",
      "source": [
        "# Filling null values continuous"
      ],
      "metadata": {
        "id": "N1dt75W5ZYNK"
      }
    },
    {
      "cell_type": "code",
      "source": [
        "for i in n :\n",
        "    train_data[i] = train_data[i].fillna(np.mean(train_data[i]))\n",
        "    #train_data[i] = train_data[i].fillna(np.mean(train_data[i]))"
      ],
      "metadata": {
        "execution": {
          "iopub.status.busy": "2023-09-12T09:15:13.243789Z",
          "iopub.execute_input": "2023-09-12T09:15:13.244542Z",
          "iopub.status.idle": "2023-09-12T09:15:13.253761Z",
          "shell.execute_reply.started": "2023-09-12T09:15:13.244507Z",
          "shell.execute_reply": "2023-09-12T09:15:13.253101Z"
        },
        "trusted": true,
        "id": "buvKPVndZYNK"
      },
      "execution_count": null,
      "outputs": []
    },
    {
      "cell_type": "code",
      "source": [
        "for i in nnn :\n",
        "    test_data[i] = test_data[i].fillna(np.mean(test_data[i]))\n",
        "    #train_data[i] = train_data[i].fillna(np.mean(train_data[i]))"
      ],
      "metadata": {
        "execution": {
          "iopub.status.busy": "2023-09-12T09:15:13.255300Z",
          "iopub.execute_input": "2023-09-12T09:15:13.256157Z",
          "iopub.status.idle": "2023-09-12T09:15:13.271701Z",
          "shell.execute_reply.started": "2023-09-12T09:15:13.256124Z",
          "shell.execute_reply": "2023-09-12T09:15:13.270956Z"
        },
        "trusted": true,
        "id": "NIVn_uY9ZYNK"
      },
      "execution_count": null,
      "outputs": []
    },
    {
      "cell_type": "code",
      "source": [
        "for i in nnn :\n",
        "    print('-*-*'*10)\n",
        "    print(i)\n",
        "    print(test_data[i].isnull().sum())\n",
        "    print('___+++__'*8)"
      ],
      "metadata": {
        "execution": {
          "iopub.status.busy": "2023-09-12T09:15:13.273129Z",
          "iopub.execute_input": "2023-09-12T09:15:13.273933Z",
          "iopub.status.idle": "2023-09-12T09:15:13.284366Z",
          "shell.execute_reply.started": "2023-09-12T09:15:13.273901Z",
          "shell.execute_reply": "2023-09-12T09:15:13.283319Z"
        },
        "trusted": true,
        "id": "z1cQqgguZYNK"
      },
      "execution_count": null,
      "outputs": []
    },
    {
      "cell_type": "code",
      "source": [
        "for i in n :\n",
        "    print('-*-*'*10)\n",
        "    print(i)\n",
        "    print(train_data[i].isnull().sum())\n",
        "    print('___+++__'*8)"
      ],
      "metadata": {
        "execution": {
          "iopub.status.busy": "2023-09-12T09:15:13.286036Z",
          "iopub.execute_input": "2023-09-12T09:15:13.286973Z",
          "iopub.status.idle": "2023-09-12T09:15:13.294887Z",
          "shell.execute_reply.started": "2023-09-12T09:15:13.286939Z",
          "shell.execute_reply": "2023-09-12T09:15:13.293952Z"
        },
        "trusted": true,
        "id": "bwKicZrCZYNK"
      },
      "execution_count": null,
      "outputs": []
    },
    {
      "cell_type": "code",
      "source": [
        "# for i in test_data.columns :\n",
        "#     print('-*-*'*10)\n",
        "#     print(i)\n",
        "#     print(test_data[i].isnull().sum())\n",
        "#     print('___+++__'*8)"
      ],
      "metadata": {
        "execution": {
          "iopub.status.busy": "2023-09-12T09:15:13.296501Z",
          "iopub.execute_input": "2023-09-12T09:15:13.297186Z",
          "iopub.status.idle": "2023-09-12T09:15:13.303475Z",
          "shell.execute_reply.started": "2023-09-12T09:15:13.297156Z",
          "shell.execute_reply": "2023-09-12T09:15:13.302377Z"
        },
        "trusted": true,
        "id": "J7tqiNY9ZYNL"
      },
      "execution_count": null,
      "outputs": []
    },
    {
      "cell_type": "markdown",
      "source": [
        "# fill nan."
      ],
      "metadata": {
        "id": "CKQzpFsMZYNL"
      }
    },
    {
      "cell_type": "code",
      "source": [
        "for i in n :\n",
        "    train_data[i] = train_data[i].fillna(np.mean(train_data[i]))\n",
        "    #train_data[i] = train_data[i].fillna(np.mean(train_data[i]))"
      ],
      "metadata": {
        "execution": {
          "iopub.status.busy": "2023-09-12T09:15:13.306271Z",
          "iopub.execute_input": "2023-09-12T09:15:13.306584Z",
          "iopub.status.idle": "2023-09-12T09:15:13.318436Z",
          "shell.execute_reply.started": "2023-09-12T09:15:13.306559Z",
          "shell.execute_reply": "2023-09-12T09:15:13.317464Z"
        },
        "trusted": true,
        "id": "HxeGxvbzZYNL"
      },
      "execution_count": null,
      "outputs": []
    },
    {
      "cell_type": "code",
      "source": [
        "for i in train_data.columns :\n",
        "    print('-*-*'*10)\n",
        "    print(i)\n",
        "    print(train_data[i].isnull().sum())\n",
        "    print('___+++__'*8)"
      ],
      "metadata": {
        "execution": {
          "iopub.status.busy": "2023-09-12T09:15:13.325720Z",
          "iopub.execute_input": "2023-09-12T09:15:13.326377Z",
          "iopub.status.idle": "2023-09-12T09:15:13.353018Z",
          "shell.execute_reply.started": "2023-09-12T09:15:13.326343Z",
          "shell.execute_reply": "2023-09-12T09:15:13.351996Z"
        },
        "trusted": true,
        "id": "BeKvV0DbZYNL"
      },
      "execution_count": null,
      "outputs": []
    },
    {
      "cell_type": "code",
      "source": [
        "for i in test_data.columns :\n",
        "    print('-*-*'*10)\n",
        "    print(i)\n",
        "    print(test_data[i].isnull().sum())\n",
        "    print('___+++__'*8)"
      ],
      "metadata": {
        "execution": {
          "iopub.status.busy": "2023-09-12T09:15:13.355851Z",
          "iopub.execute_input": "2023-09-12T09:15:13.356107Z",
          "iopub.status.idle": "2023-09-12T09:15:13.385962Z",
          "shell.execute_reply.started": "2023-09-12T09:15:13.356085Z",
          "shell.execute_reply": "2023-09-12T09:15:13.384835Z"
        },
        "trusted": true,
        "id": "S7yqzGQjZYNO"
      },
      "execution_count": null,
      "outputs": []
    },
    {
      "cell_type": "code",
      "source": [
        "a = train_data[n]\n",
        "a.corr()"
      ],
      "metadata": {
        "execution": {
          "iopub.status.busy": "2023-09-12T09:15:13.387357Z",
          "iopub.execute_input": "2023-09-12T09:15:13.387881Z",
          "iopub.status.idle": "2023-09-12T09:15:13.401877Z",
          "shell.execute_reply.started": "2023-09-12T09:15:13.387850Z",
          "shell.execute_reply": "2023-09-12T09:15:13.400750Z"
        },
        "trusted": true,
        "id": "zZ_yCf5WZYNO"
      },
      "execution_count": null,
      "outputs": []
    },
    {
      "cell_type": "code",
      "source": [
        "# c = []\n",
        "# for i in train_data.columns:\n",
        "#     if (train_data[i].dtype) == 'O':\n",
        "#         c.append(i)\n",
        "# print(c)\n",
        "# print(len(c))"
      ],
      "metadata": {
        "execution": {
          "iopub.status.busy": "2023-09-12T09:15:13.403665Z",
          "iopub.execute_input": "2023-09-12T09:15:13.404088Z",
          "iopub.status.idle": "2023-09-12T09:15:13.408470Z",
          "shell.execute_reply.started": "2023-09-12T09:15:13.404055Z",
          "shell.execute_reply": "2023-09-12T09:15:13.407528Z"
        },
        "trusted": true,
        "id": "C1auv9jpZYNP"
      },
      "execution_count": null,
      "outputs": []
    },
    {
      "cell_type": "code",
      "source": [
        "# for i in c:\n",
        "#     if train_data[i].isnull().sum() > 0:\n",
        "#         train_data.fillna(np.mean(train_data[i]))\n",
        ""
      ],
      "metadata": {
        "execution": {
          "iopub.status.busy": "2023-09-12T09:15:13.410015Z",
          "iopub.execute_input": "2023-09-12T09:15:13.410664Z",
          "iopub.status.idle": "2023-09-12T09:15:13.419415Z",
          "shell.execute_reply.started": "2023-09-12T09:15:13.410584Z",
          "shell.execute_reply": "2023-09-12T09:15:13.418377Z"
        },
        "trusted": true,
        "id": "0CLqVJlEZYNP"
      },
      "execution_count": null,
      "outputs": []
    },
    {
      "cell_type": "code",
      "source": [
        "# for i in train_data.columns :\n",
        "#     print('-*-*'*10)\n",
        "#     print(i)\n",
        "#     print(train_data[i].isnull().sum())\n",
        "#     print('___+++__'*8)"
      ],
      "metadata": {
        "execution": {
          "iopub.status.busy": "2023-09-12T09:15:13.420895Z",
          "iopub.execute_input": "2023-09-12T09:15:13.421465Z",
          "iopub.status.idle": "2023-09-12T09:15:13.428289Z",
          "shell.execute_reply.started": "2023-09-12T09:15:13.421433Z",
          "shell.execute_reply": "2023-09-12T09:15:13.427578Z"
        },
        "trusted": true,
        "id": "J0m2dubJZYNP"
      },
      "execution_count": null,
      "outputs": []
    },
    {
      "cell_type": "code",
      "source": [
        "train_data.describe().T"
      ],
      "metadata": {
        "execution": {
          "iopub.status.busy": "2023-09-12T09:15:13.429554Z",
          "iopub.execute_input": "2023-09-12T09:15:13.430473Z",
          "iopub.status.idle": "2023-09-12T09:15:13.523724Z",
          "shell.execute_reply.started": "2023-09-12T09:15:13.430437Z",
          "shell.execute_reply": "2023-09-12T09:15:13.522570Z"
        },
        "trusted": true,
        "id": "nkD8koVZZYNP"
      },
      "execution_count": null,
      "outputs": []
    },
    {
      "cell_type": "code",
      "source": [
        "train_data.describe(include = 'O').T"
      ],
      "metadata": {
        "execution": {
          "iopub.status.busy": "2023-09-12T09:15:13.525172Z",
          "iopub.execute_input": "2023-09-12T09:15:13.527113Z",
          "iopub.status.idle": "2023-09-12T09:15:13.594588Z",
          "shell.execute_reply.started": "2023-09-12T09:15:13.527086Z",
          "shell.execute_reply": "2023-09-12T09:15:13.593425Z"
        },
        "trusted": true,
        "id": "N9t4WVYgZYNP"
      },
      "execution_count": null,
      "outputs": []
    },
    {
      "cell_type": "code",
      "source": [
        "test_data.describe()"
      ],
      "metadata": {
        "execution": {
          "iopub.status.busy": "2023-09-12T09:15:13.596537Z",
          "iopub.execute_input": "2023-09-12T09:15:13.597032Z",
          "iopub.status.idle": "2023-09-12T09:15:13.676016Z",
          "shell.execute_reply.started": "2023-09-12T09:15:13.596968Z",
          "shell.execute_reply": "2023-09-12T09:15:13.674980Z"
        },
        "trusted": true,
        "id": "ss4Jk6XlZYNP"
      },
      "execution_count": null,
      "outputs": []
    },
    {
      "cell_type": "markdown",
      "source": [
        "# training Label"
      ],
      "metadata": {
        "id": "A1M3JT-nZYNP"
      }
    },
    {
      "cell_type": "code",
      "source": [
        "train_out = train_data['SalePrice']\n",
        "train_out = np.log(train_out)"
      ],
      "metadata": {
        "execution": {
          "iopub.status.busy": "2023-09-12T09:15:13.677572Z",
          "iopub.execute_input": "2023-09-12T09:15:13.678083Z",
          "iopub.status.idle": "2023-09-12T09:15:13.683484Z",
          "shell.execute_reply.started": "2023-09-12T09:15:13.678050Z",
          "shell.execute_reply": "2023-09-12T09:15:13.682367Z"
        },
        "trusted": true,
        "id": "KE1O8b5LZYNQ"
      },
      "execution_count": null,
      "outputs": []
    },
    {
      "cell_type": "code",
      "source": [
        "train_out"
      ],
      "metadata": {
        "execution": {
          "iopub.status.busy": "2023-09-12T09:15:13.685033Z",
          "iopub.execute_input": "2023-09-12T09:15:13.685459Z",
          "iopub.status.idle": "2023-09-12T09:15:13.698800Z",
          "shell.execute_reply.started": "2023-09-12T09:15:13.685428Z",
          "shell.execute_reply": "2023-09-12T09:15:13.697758Z"
        },
        "trusted": true,
        "id": "CeMfe3zuZYNQ"
      },
      "execution_count": null,
      "outputs": []
    },
    {
      "cell_type": "code",
      "source": [
        "train_data.drop('SalePrice',axis = 1,inplace = True)\n",
        "train_data.head()"
      ],
      "metadata": {
        "execution": {
          "iopub.status.busy": "2023-09-12T09:15:13.700723Z",
          "iopub.execute_input": "2023-09-12T09:15:13.701015Z",
          "iopub.status.idle": "2023-09-12T09:15:13.728787Z",
          "shell.execute_reply.started": "2023-09-12T09:15:13.700992Z",
          "shell.execute_reply": "2023-09-12T09:15:13.727934Z"
        },
        "trusted": true,
        "id": "fVf-gfyWZYNQ"
      },
      "execution_count": null,
      "outputs": []
    },
    {
      "cell_type": "markdown",
      "source": [
        "# testing label"
      ],
      "metadata": {
        "id": "0XFbwyZZZYNQ"
      }
    },
    {
      "cell_type": "code",
      "source": [
        "test_actualout = pd.read_csv('/kaggle/input/house-prices-advanced-regression-techniques/sample_submission.csv')\n",
        "test_actualout = test_actualout['SalePrice']\n",
        "test_actualout = np.log(test_actualout)\n",
        "test_actualout"
      ],
      "metadata": {
        "execution": {
          "iopub.status.busy": "2023-09-12T09:15:13.729990Z",
          "iopub.execute_input": "2023-09-12T09:15:13.730416Z",
          "iopub.status.idle": "2023-09-12T09:15:13.743220Z",
          "shell.execute_reply.started": "2023-09-12T09:15:13.730383Z",
          "shell.execute_reply": "2023-09-12T09:15:13.742186Z"
        },
        "trusted": true,
        "id": "d6MNmNqZZYNQ"
      },
      "execution_count": null,
      "outputs": []
    },
    {
      "cell_type": "code",
      "source": [
        "train_data"
      ],
      "metadata": {
        "execution": {
          "iopub.status.busy": "2023-09-12T09:15:13.744820Z",
          "iopub.execute_input": "2023-09-12T09:15:13.745204Z",
          "iopub.status.idle": "2023-09-12T09:15:13.776679Z",
          "shell.execute_reply.started": "2023-09-12T09:15:13.745174Z",
          "shell.execute_reply": "2023-09-12T09:15:13.775651Z"
        },
        "trusted": true,
        "id": "vgFn8u49ZYNQ"
      },
      "execution_count": null,
      "outputs": []
    },
    {
      "cell_type": "code",
      "source": [
        "# c = []\n",
        "# for i in train_data.columns:\n",
        "#     if (train_data[i].dtype) == 'O':\n",
        "#         c.append(i)\n",
        "# print(c)\n",
        "# print(len(c))"
      ],
      "metadata": {
        "execution": {
          "iopub.status.busy": "2023-09-12T09:15:13.778127Z",
          "iopub.execute_input": "2023-09-12T09:15:13.778709Z",
          "iopub.status.idle": "2023-09-12T09:15:13.785427Z",
          "shell.execute_reply.started": "2023-09-12T09:15:13.778674Z",
          "shell.execute_reply": "2023-09-12T09:15:13.784254Z"
        },
        "trusted": true,
        "id": "h1-zBoutZYNR"
      },
      "execution_count": null,
      "outputs": []
    },
    {
      "cell_type": "code",
      "source": [
        "# cate = [i for i in train_data.columns if train_data[i].dtype == object]   nextline code is same insted of doing all the stuff we simply ues select_dtypes\n",
        "cate = train_data.select_dtypes(include  = 'O').columns\n",
        "cate"
      ],
      "metadata": {
        "execution": {
          "iopub.status.busy": "2023-09-12T09:15:13.787287Z",
          "iopub.execute_input": "2023-09-12T09:15:13.787702Z",
          "iopub.status.idle": "2023-09-12T09:15:13.800682Z",
          "shell.execute_reply.started": "2023-09-12T09:15:13.787667Z",
          "shell.execute_reply": "2023-09-12T09:15:13.799650Z"
        },
        "trusted": true,
        "id": "S7tXaFFGZYNR"
      },
      "execution_count": null,
      "outputs": []
    },
    {
      "cell_type": "code",
      "source": [
        "len(cate)"
      ],
      "metadata": {
        "execution": {
          "iopub.status.busy": "2023-09-12T09:15:13.802106Z",
          "iopub.execute_input": "2023-09-12T09:15:13.803053Z",
          "iopub.status.idle": "2023-09-12T09:15:13.809235Z",
          "shell.execute_reply.started": "2023-09-12T09:15:13.803017Z",
          "shell.execute_reply": "2023-09-12T09:15:13.808291Z"
        },
        "trusted": true,
        "id": "jV-A3Y3xZYNS"
      },
      "execution_count": null,
      "outputs": []
    },
    {
      "cell_type": "code",
      "source": [
        "from sklearn.preprocessing import LabelEncoder\n",
        "l = LabelEncoder()\n",
        "for i in cate:\n",
        "    train_data[i] = l.fit_transform(train_data[i])\n",
        "    test_data[i] = l.fit_transform(test_data[i])"
      ],
      "metadata": {
        "execution": {
          "iopub.status.busy": "2023-09-12T09:15:13.810522Z",
          "iopub.execute_input": "2023-09-12T09:15:13.811308Z",
          "iopub.status.idle": "2023-09-12T09:15:13.867542Z",
          "shell.execute_reply.started": "2023-09-12T09:15:13.811276Z",
          "shell.execute_reply": "2023-09-12T09:15:13.866519Z"
        },
        "trusted": true,
        "id": "VJmuPsmUZYNS"
      },
      "execution_count": null,
      "outputs": []
    },
    {
      "cell_type": "code",
      "source": [
        "train_data"
      ],
      "metadata": {
        "execution": {
          "iopub.status.busy": "2023-09-12T09:15:13.869501Z",
          "iopub.execute_input": "2023-09-12T09:15:13.870583Z",
          "iopub.status.idle": "2023-09-12T09:15:13.905484Z",
          "shell.execute_reply.started": "2023-09-12T09:15:13.870549Z",
          "shell.execute_reply": "2023-09-12T09:15:13.904631Z"
        },
        "trusted": true,
        "id": "IffLng6uZYNS"
      },
      "execution_count": null,
      "outputs": []
    },
    {
      "cell_type": "code",
      "source": [
        "test_data"
      ],
      "metadata": {
        "execution": {
          "iopub.status.busy": "2023-09-12T09:15:13.906678Z",
          "iopub.execute_input": "2023-09-12T09:15:13.907006Z",
          "iopub.status.idle": "2023-09-12T09:15:14.079539Z",
          "shell.execute_reply.started": "2023-09-12T09:15:13.906973Z",
          "shell.execute_reply": "2023-09-12T09:15:14.078585Z"
        },
        "trusted": true,
        "id": "0I2Gj3TqZYNT"
      },
      "execution_count": null,
      "outputs": []
    },
    {
      "cell_type": "code",
      "source": [
        "type(train_data)"
      ],
      "metadata": {
        "execution": {
          "iopub.status.busy": "2023-09-12T09:15:14.080849Z",
          "iopub.execute_input": "2023-09-12T09:15:14.081455Z",
          "iopub.status.idle": "2023-09-12T09:15:14.088325Z",
          "shell.execute_reply.started": "2023-09-12T09:15:14.081422Z",
          "shell.execute_reply": "2023-09-12T09:15:14.087244Z"
        },
        "trusted": true,
        "id": "IVJY7Hv8ZYNT"
      },
      "execution_count": null,
      "outputs": []
    },
    {
      "cell_type": "code",
      "source": [
        "train_data.corr()"
      ],
      "metadata": {
        "execution": {
          "iopub.status.busy": "2023-09-12T09:15:14.095987Z",
          "iopub.execute_input": "2023-09-12T09:15:14.096604Z",
          "iopub.status.idle": "2023-09-12T09:15:14.172814Z",
          "shell.execute_reply.started": "2023-09-12T09:15:14.096579Z",
          "shell.execute_reply": "2023-09-12T09:15:14.171758Z"
        },
        "trusted": true,
        "id": "oD5TK98oZYNT"
      },
      "execution_count": null,
      "outputs": []
    },
    {
      "cell_type": "code",
      "source": [
        "g = pd.DataFrame(train_data.dtypes,columns=['dtype'])\n",
        "train_data"
      ],
      "metadata": {
        "execution": {
          "iopub.status.busy": "2023-09-12T09:15:14.174486Z",
          "iopub.execute_input": "2023-09-12T09:15:14.174843Z",
          "iopub.status.idle": "2023-09-12T09:15:14.204985Z",
          "shell.execute_reply.started": "2023-09-12T09:15:14.174812Z",
          "shell.execute_reply": "2023-09-12T09:15:14.203921Z"
        },
        "trusted": true,
        "id": "jVSMHmtdZYNT"
      },
      "execution_count": null,
      "outputs": []
    },
    {
      "cell_type": "markdown",
      "source": [
        "# Feature & Lable Scaling"
      ],
      "metadata": {
        "id": "kttlJTEQZYNT"
      }
    },
    {
      "cell_type": "code",
      "source": [
        "from sklearn.preprocessing import StandardScaler\n",
        "scaler = StandardScaler()\n",
        "X_train=scaler.fit_transform(train_data)\n",
        "X_test = scaler.transform(test_data)"
      ],
      "metadata": {
        "execution": {
          "iopub.status.busy": "2023-09-12T09:15:14.206578Z",
          "iopub.execute_input": "2023-09-12T09:15:14.206934Z",
          "iopub.status.idle": "2023-09-12T09:15:14.226159Z",
          "shell.execute_reply.started": "2023-09-12T09:15:14.206904Z",
          "shell.execute_reply": "2023-09-12T09:15:14.225322Z"
        },
        "trusted": true,
        "id": "xsuZnl-6ZYNT"
      },
      "execution_count": null,
      "outputs": []
    },
    {
      "cell_type": "markdown",
      "source": [
        "#  dataframe to torch dataloaders"
      ],
      "metadata": {
        "id": "J0C1bA_8ZYNT"
      }
    },
    {
      "cell_type": "code",
      "source": [
        "# use .values() sothat you get numpy array insted of  dataframe\n",
        "# this was the mistake\n"
      ],
      "metadata": {
        "execution": {
          "iopub.status.busy": "2023-09-12T09:15:14.227551Z",
          "iopub.execute_input": "2023-09-12T09:15:14.227919Z",
          "iopub.status.idle": "2023-09-12T09:15:14.232773Z",
          "shell.execute_reply.started": "2023-09-12T09:15:14.227887Z",
          "shell.execute_reply": "2023-09-12T09:15:14.231746Z"
        },
        "trusted": true,
        "id": "PeXIJ1I0ZYNT"
      },
      "execution_count": null,
      "outputs": []
    },
    {
      "cell_type": "code",
      "source": [
        "# X_train = torch.tensor(train_data, dtype=torch.float32)\n",
        "# y_train = torch.tensor(train_out, dtype=torch.float32)\n",
        "# X_test = torch.tensor(test_data, dtype=torch.float32)\n",
        "# y_test = torch.tensor(test_actualout, dtype=torch.float32)\n",
        "from torch.autograd import Variable\n",
        "X_train = Variable(torch.from_numpy(X_train)).float()\n",
        "Y_train = torch.tensor(train_out).float()\n",
        "X_test = Variable(torch.from_numpy(X_test)).float()\n",
        "Y_test = torch.tensor(test_actualout).float()"
      ],
      "metadata": {
        "execution": {
          "iopub.status.busy": "2023-09-12T09:15:14.234179Z",
          "iopub.execute_input": "2023-09-12T09:15:14.235062Z",
          "iopub.status.idle": "2023-09-12T09:15:14.259414Z",
          "shell.execute_reply.started": "2023-09-12T09:15:14.235031Z",
          "shell.execute_reply": "2023-09-12T09:15:14.258537Z"
        },
        "trusted": true,
        "id": "vGf1kXNIZYNU"
      },
      "execution_count": null,
      "outputs": []
    },
    {
      "cell_type": "code",
      "source": [
        "# #from torch.utils import Data\n",
        "# #from torch.utils.data import Data\n",
        "# import tensorflow as tf\n",
        "# tf.debugging.check_numerics(X_train, \"Invalid tensor\")"
      ],
      "metadata": {
        "execution": {
          "iopub.status.busy": "2023-09-12T09:15:14.262547Z",
          "iopub.execute_input": "2023-09-12T09:15:14.262841Z",
          "iopub.status.idle": "2023-09-12T09:15:14.268964Z",
          "shell.execute_reply.started": "2023-09-12T09:15:14.262818Z",
          "shell.execute_reply": "2023-09-12T09:15:14.267968Z"
        },
        "trusted": true,
        "id": "jpg9Q3b5ZYNU"
      },
      "execution_count": null,
      "outputs": []
    },
    {
      "cell_type": "code",
      "source": [
        "train_dataset = data.TensorDataset(X_train,Y_train)\n",
        "batch = 64\n",
        "train_dataloader = DataLoader(train_dataset,batch_size = batch,shuffle = True,)"
      ],
      "metadata": {
        "execution": {
          "iopub.status.busy": "2023-09-12T09:15:14.270202Z",
          "iopub.execute_input": "2023-09-12T09:15:14.270589Z",
          "iopub.status.idle": "2023-09-12T09:15:14.280218Z",
          "shell.execute_reply.started": "2023-09-12T09:15:14.270557Z",
          "shell.execute_reply": "2023-09-12T09:15:14.279223Z"
        },
        "trusted": true,
        "id": "zyFSRcWbZYNU"
      },
      "execution_count": null,
      "outputs": []
    },
    {
      "cell_type": "code",
      "source": [
        "test_dataset = data.TensorDataset(X_test,Y_test)\n",
        "batch_size = 64\n",
        "test_dataloader = DataLoader(test_dataset,batch_size = batch_size,shuffle = True)"
      ],
      "metadata": {
        "execution": {
          "iopub.status.busy": "2023-09-12T09:15:14.282499Z",
          "iopub.execute_input": "2023-09-12T09:15:14.283255Z",
          "iopub.status.idle": "2023-09-12T09:15:14.292045Z",
          "shell.execute_reply.started": "2023-09-12T09:15:14.283193Z",
          "shell.execute_reply": "2023-09-12T09:15:14.290793Z"
        },
        "trusted": true,
        "id": "smLaM-JbZYNU"
      },
      "execution_count": null,
      "outputs": []
    },
    {
      "cell_type": "markdown",
      "source": [
        "# Activation Function"
      ],
      "metadata": {
        "id": "pDzYZPexZYNU"
      }
    },
    {
      "cell_type": "code",
      "source": [
        "import torch.nn as nn\n",
        "\n",
        "relu = nn.ReLU()"
      ],
      "metadata": {
        "execution": {
          "iopub.status.busy": "2023-09-12T09:15:14.293590Z",
          "iopub.execute_input": "2023-09-12T09:15:14.293966Z",
          "iopub.status.idle": "2023-09-12T09:15:14.302390Z",
          "shell.execute_reply.started": "2023-09-12T09:15:14.293936Z",
          "shell.execute_reply": "2023-09-12T09:15:14.301402Z"
        },
        "trusted": true,
        "id": "-C3QO4UfZYNU"
      },
      "execution_count": null,
      "outputs": []
    },
    {
      "cell_type": "code",
      "source": [
        "\n",
        "(X_train)"
      ],
      "metadata": {
        "execution": {
          "iopub.status.busy": "2023-09-12T09:15:14.305696Z",
          "iopub.execute_input": "2023-09-12T09:15:14.305995Z",
          "iopub.status.idle": "2023-09-12T09:15:14.317445Z",
          "shell.execute_reply.started": "2023-09-12T09:15:14.305961Z",
          "shell.execute_reply": "2023-09-12T09:15:14.316463Z"
        },
        "trusted": true,
        "id": "6WcECaelZYNU"
      },
      "execution_count": null,
      "outputs": []
    },
    {
      "cell_type": "markdown",
      "source": [
        "# Neuralnetwork Architecture"
      ],
      "metadata": {
        "id": "S8QKwedjZYNV"
      }
    },
    {
      "cell_type": "code",
      "source": [
        "class Neuralnetwork(nn.Module):\n",
        "    def __init__(self,n_input,n_hidden,n_output):\n",
        "        super(Neuralnetwork,self).__init__()\n",
        "        #self.flatten = nn.Flatten()\n",
        "        self.layer1 = nn.Linear(n_input,n_hidden)\n",
        "        self.relu = nn.ReLU()\n",
        "\n",
        "        self.layer2 = nn.Linear(n_hidden,256)\n",
        "        self.out = nn.Linear(256,n_output)\n",
        "    def forward(self,x):\n",
        "        #x = self.flatten(x)\n",
        "        x = self.layer1(x)\n",
        "\n",
        "        x = self.relu(x)\n",
        "        x = self.layer2(x)\n",
        "        x = relu(x)\n",
        "        x = self.out(x)\n",
        "        out_ =self.relu(x)\n",
        "        return out_\n",
        "\n",
        "\n",
        ""
      ],
      "metadata": {
        "execution": {
          "iopub.status.busy": "2023-09-12T09:15:14.319740Z",
          "iopub.execute_input": "2023-09-12T09:15:14.320433Z",
          "iopub.status.idle": "2023-09-12T09:15:14.328043Z",
          "shell.execute_reply.started": "2023-09-12T09:15:14.320292Z",
          "shell.execute_reply": "2023-09-12T09:15:14.327105Z"
        },
        "trusted": true,
        "id": "Pg0D7PiTZYNV"
      },
      "execution_count": null,
      "outputs": []
    },
    {
      "cell_type": "markdown",
      "source": [
        "# GPU & optimizer Setup"
      ],
      "metadata": {
        "id": "WlxKrErGZYNV"
      }
    },
    {
      "cell_type": "code",
      "source": [
        "device = torch.device(\"cuda\" if torch.cuda.is_available() else \"cpu\")\n",
        "\n",
        "model = Neuralnetwork(X_train.shape[1],512,1)\n",
        "model = model.to(device)\n",
        "loss_fn = nn.MSELoss()\n",
        "optimizer = torch.optim.SGD(model.parameters(),lr = 0.01)\n",
        "model"
      ],
      "metadata": {
        "execution": {
          "iopub.status.busy": "2023-09-12T09:15:14.329445Z",
          "iopub.execute_input": "2023-09-12T09:15:14.330032Z",
          "iopub.status.idle": "2023-09-12T09:15:14.348478Z",
          "shell.execute_reply.started": "2023-09-12T09:15:14.330002Z",
          "shell.execute_reply": "2023-09-12T09:15:14.347541Z"
        },
        "trusted": true,
        "id": "yGeFdN-6ZYNV"
      },
      "execution_count": null,
      "outputs": []
    },
    {
      "cell_type": "markdown",
      "source": [
        "# Training"
      ],
      "metadata": {
        "id": "N4GVds03ZYNV"
      }
    },
    {
      "cell_type": "code",
      "source": [
        "def training(train_dataloader,model,loss_,optimizer):\n",
        "\n",
        "    model.train()\n",
        "\n",
        "    for batch,(X,y)in enumerate(train_dataloader):\n",
        "\n",
        "        X = X.to(device)\n",
        "        y = y.to(device)\n",
        "\n",
        "        pred = model(X)\n",
        "        #print('predicted value is ',pred)\n",
        "        los = loss_(pred,y)\n",
        "        #print('loss is as ',loss)\n",
        "#3backpropagation\n",
        "        los.backward()\n",
        "        optimizer.step()\n",
        "        optimizer.zero_grad()\n",
        "\n",
        "\n",
        "        if batch% 5 ==0:\n",
        "            #print('batch number is *************       ' ,batch)\n",
        "            print(f'loss:{los}')\n",
        "#         with torch.no_grad():\n",
        "#             pred = model(X_train.float())\n",
        "#             train_mae = mean_absolute_error(y, pred.numpy())\n",
        "#             train_rmse = np.sqrt(mean_squared_error(y, pred.numpy()))\n",
        "#             print(train_rmse)"
      ],
      "metadata": {
        "execution": {
          "iopub.status.busy": "2023-09-12T09:15:14.351515Z",
          "iopub.execute_input": "2023-09-12T09:15:14.351837Z",
          "iopub.status.idle": "2023-09-12T09:15:14.360927Z",
          "shell.execute_reply.started": "2023-09-12T09:15:14.351814Z",
          "shell.execute_reply": "2023-09-12T09:15:14.359766Z"
        },
        "trusted": true,
        "id": "opg7zU8_ZYNV"
      },
      "execution_count": null,
      "outputs": []
    },
    {
      "cell_type": "code",
      "source": [
        "from sklearn.metrics import mean_absolute_error\n",
        "#mean_absolute_error(y.detach().cpu().numpy(), pred.detach().cpu().numpy())\n",
        "##.detach().cpu().numpy()   this is to move between cpu and gpu"
      ],
      "metadata": {
        "execution": {
          "iopub.status.busy": "2023-09-12T09:15:14.364298Z",
          "iopub.execute_input": "2023-09-12T09:15:14.365815Z",
          "iopub.status.idle": "2023-09-12T09:15:14.369938Z",
          "shell.execute_reply.started": "2023-09-12T09:15:14.365784Z",
          "shell.execute_reply": "2023-09-12T09:15:14.368999Z"
        },
        "trusted": true,
        "id": "iv7BiFr9ZYNV"
      },
      "execution_count": null,
      "outputs": []
    },
    {
      "cell_type": "code",
      "source": [
        "def test(model,data,loss_):\n",
        "    model.eval()\n",
        "    test_loss = 0\n",
        "    size  = len(X_test)\n",
        "\n",
        "    with torch.no_grad():\n",
        "\n",
        "        for batch,(X,y) in enumerate(data):\n",
        "            X = X.to(device)\n",
        "            y = y.to(device)\n",
        "\n",
        "            pred = model(X)\n",
        "\n",
        "            batch_loss = loss_fn(pred, y)\n",
        "            #print('test_loss is ',test_loss)\n",
        "            #print('batch_loss is ',batch_loss)\n",
        "            #print('batch_loss of items is ',   batch_loss.item())\n",
        "\n",
        "            test_loss += batch_loss.item()\n",
        "\n",
        "        average_loss = test_loss / size\n",
        "        print(f'Test Loss: {average_loss:.4f}')"
      ],
      "metadata": {
        "execution": {
          "iopub.status.busy": "2023-09-12T09:31:13.752945Z",
          "iopub.execute_input": "2023-09-12T09:31:13.753322Z",
          "iopub.status.idle": "2023-09-12T09:31:13.760025Z",
          "shell.execute_reply.started": "2023-09-12T09:31:13.753292Z",
          "shell.execute_reply": "2023-09-12T09:31:13.758999Z"
        },
        "trusted": true,
        "id": "CUpkntb4ZYNW"
      },
      "execution_count": null,
      "outputs": []
    },
    {
      "cell_type": "code",
      "source": [
        "epoch = 20\n",
        "i = 1\n",
        "for t in range(epoch):\n",
        "    print('-----------------epoch number -----',i)\n",
        "    training(train_dataloader,model,loss_fn,optimizer)\n",
        "    #print(y)\n",
        "    test(model,test_dataloader,loss_fn)\n",
        "    i+=1"
      ],
      "metadata": {
        "execution": {
          "iopub.status.busy": "2023-09-12T09:31:14.088061Z",
          "iopub.execute_input": "2023-09-12T09:31:14.088417Z",
          "iopub.status.idle": "2023-09-12T09:31:15.342375Z",
          "shell.execute_reply.started": "2023-09-12T09:31:14.088385Z",
          "shell.execute_reply": "2023-09-12T09:31:15.340654Z"
        },
        "trusted": true,
        "id": "NOekrjnqZYNW"
      },
      "execution_count": null,
      "outputs": []
    },
    {
      "cell_type": "code",
      "source": [],
      "metadata": {
        "trusted": true,
        "id": "1aVzILb7ZYNW"
      },
      "execution_count": null,
      "outputs": []
    }
  ]
}